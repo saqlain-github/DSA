{
 "cells": [
  {
   "cell_type": "code",
   "execution_count": 2,
   "metadata": {},
   "outputs": [
    {
     "name": "stdout",
     "output_type": "stream",
     "text": [
      "50\n",
      "Danger\n"
     ]
    }
   ],
   "source": [
    "acceleration = 10\n",
    "time  = 5\n",
    "max_speed = 20\n",
    "\n",
    "speed = acceleration*time\n",
    "print(speed)\n",
    "\n",
    "if speed > max_speed: # conditional statement\n",
    "    print(\"Danger\")\n",
    "    \n",
    "else:\n",
    "    print(\"Safe\")"
   ]
  },
  {
   "cell_type": "code",
   "execution_count": null,
   "metadata": {},
   "outputs": [],
   "source": [
    "# expression\n",
    "'''\n",
    "variables = constants\n",
    "'''"
   ]
  },
  {
   "cell_type": "code",
   "execution_count": 5,
   "metadata": {},
   "outputs": [
    {
     "name": "stdout",
     "output_type": "stream",
     "text": [
      "100 10 90\n",
      "81.0\n"
     ]
    }
   ],
   "source": [
    "original_price = int(input(\"Enter Original Price\"))\n",
    "discount = int(input(\"Enter Discount\"))\n",
    "amount_payable = int(input(\"Enter Amount Payable\"))\n",
    "print(original_price, discount, amount_payable)\n",
    "\n",
    "x = amount_payable * ((100 - discount)/ 100)\n",
    "\n",
    "print(x)"
   ]
  },
  {
   "cell_type": "code",
   "execution_count": null,
   "metadata": {},
   "outputs": [],
   "source": [
    "### input \n",
    "### processing \n",
    "## output"
   ]
  },
  {
   "cell_type": "code",
   "execution_count": 1,
   "metadata": {},
   "outputs": [
    {
     "data": {
      "text/plain": [
       "(False, 0)"
      ]
     },
     "execution_count": 1,
     "metadata": {},
     "output_type": "execute_result"
    }
   ],
   "source": [
    "def canPlaceFlowers(flowerbed, n: int):\n",
    "    i = 0\n",
    "    count = 0\n",
    "    while i < len(flowerbed):\n",
    "        if flowerbed[i] == 0:\n",
    "            if i == 0 and flowerbed[i+1] == 0:\n",
    "                count += 1\n",
    "                i += 1\n",
    "            if i == len(flowerbed)-1 and flowerbed[i-1] == 0:\n",
    "                count += 1\n",
    "                i += 1\n",
    "            if i > 0 and i < len(flowerbed)-1 and flowerbed[i+1] == 0 and flowerbed[i-1] == 0:\n",
    "                count += 1\n",
    "                i+=1\n",
    "        i += 1 \n",
    "\n",
    "    return count == n, count\n",
    "\n",
    "\n",
    "canPlaceFlowers([0,0,1,0,1],1)"
   ]
  },
  {
   "cell_type": "code",
   "execution_count": 6,
   "metadata": {},
   "outputs": [
    {
     "ename": "AttributeError",
     "evalue": "'list' object has no attribute 'join'",
     "output_type": "error",
     "traceback": [
      "\u001b[1;31m---------------------------------------------------------------------------\u001b[0m",
      "\u001b[1;31mAttributeError\u001b[0m                            Traceback (most recent call last)",
      "Cell \u001b[1;32mIn[6], line 1\u001b[0m\n\u001b[1;32m----> 1\u001b[0m \u001b[39mlist\u001b[39;49m(\u001b[39m\"\u001b[39;49m\u001b[39maws\u001b[39;49m\u001b[39m\"\u001b[39;49m)\u001b[39m.\u001b[39;49mjoin(\u001b[39m\"\u001b[39m\u001b[39m\"\u001b[39m)\n",
      "\u001b[1;31mAttributeError\u001b[0m: 'list' object has no attribute 'join'"
     ]
    }
   ],
   "source": [
    "list(\"aws\").join(\"\")"
   ]
  },
  {
   "cell_type": "code",
   "execution_count": 9,
   "metadata": {},
   "outputs": [
    {
     "data": {
      "text/plain": [
       "False"
      ]
     },
     "execution_count": 9,
     "metadata": {},
     "output_type": "execute_result"
    }
   ],
   "source": [
    "vowels = \"aeiou\"\n",
    "\n",
    "\"u\" not in vowels"
   ]
  },
  {
   "cell_type": "code",
   "execution_count": 11,
   "metadata": {},
   "outputs": [
    {
     "data": {
      "text/plain": [
       "'A'"
      ]
     },
     "execution_count": 11,
     "metadata": {},
     "output_type": "execute_result"
    }
   ],
   "source": [
    "\"a\".upper()"
   ]
  },
  {
   "cell_type": "code",
   "execution_count": 12,
   "metadata": {},
   "outputs": [
    {
     "data": {
      "text/plain": [
       "['a', 'b', '1', '2']"
      ]
     },
     "execution_count": 12,
     "metadata": {},
     "output_type": "execute_result"
    }
   ],
   "source": [
    "list(\"ab12\")"
   ]
  },
  {
   "cell_type": "code",
   "execution_count": null,
   "metadata": {},
   "outputs": [],
   "source": []
  }
 ],
 "metadata": {
  "kernelspec": {
   "display_name": "base",
   "language": "python",
   "name": "python3"
  },
  "language_info": {
   "codemirror_mode": {
    "name": "ipython",
    "version": 3
   },
   "file_extension": ".py",
   "mimetype": "text/x-python",
   "name": "python",
   "nbconvert_exporter": "python",
   "pygments_lexer": "ipython3",
   "version": "3.9.12"
  },
  "orig_nbformat": 4
 },
 "nbformat": 4,
 "nbformat_minor": 2
}
