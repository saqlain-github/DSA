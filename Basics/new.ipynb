{
 "cells": [
  {
   "cell_type": "code",
   "execution_count": null,
   "metadata": {},
   "outputs": [],
   "source": [
    "'''\n",
    "Python - Language - C++ -> A, b , c \n",
    "'''"
   ]
  },
  {
   "cell_type": "code",
   "execution_count": 3,
   "metadata": {},
   "outputs": [],
   "source": [
    "### Datatype\n",
    "\n",
    "'''\n",
    "int , float, string, boolean, \n",
    "set, dictionary, list,\n",
    "\n",
    "\n",
    "Number - -inf to inf, 1,2 3 -> 1.000\n",
    "int - 1, 2,3 -1, 0, 1, \n",
    "float - 1.1 1.2 \n",
    "complex 2+3j-> True and False\n",
    "'''\n",
    "\n",
    "x = 3 # variable = constant\n",
    "y = 5  # variable = constant\n",
    "z = x + y"
   ]
  },
  {
   "cell_type": "code",
   "execution_count": 5,
   "metadata": {},
   "outputs": [
    {
     "data": {
      "text/plain": [
       "int"
      ]
     },
     "execution_count": 5,
     "metadata": {},
     "output_type": "execute_result"
    }
   ],
   "source": [
    "i = int(input(\"Enter the value of i :\"))\n",
    "type(i)"
   ]
  },
  {
   "cell_type": "code",
   "execution_count": 3,
   "metadata": {},
   "outputs": [
    {
     "data": {
      "text/plain": [
       "'MohdSameer'"
      ]
     },
     "execution_count": 3,
     "metadata": {},
     "output_type": "execute_result"
    }
   ],
   "source": [
    "str1 = \"Sameer\"\n",
    "str2 = \"Mohd\"\n",
    "\n",
    "str2+str1"
   ]
  },
  {
   "cell_type": "code",
   "execution_count": 6,
   "metadata": {},
   "outputs": [],
   "source": [
    "list1 = [1,2,3,\"sameer\", 20.234]"
   ]
  },
  {
   "cell_type": "code",
   "execution_count": 8,
   "metadata": {},
   "outputs": [
    {
     "data": {
      "text/plain": [
       "'sameer'"
      ]
     },
     "execution_count": 8,
     "metadata": {},
     "output_type": "execute_result"
    }
   ],
   "source": [
    "list1[3]"
   ]
  },
  {
   "cell_type": "code",
   "execution_count": 24,
   "metadata": {},
   "outputs": [
    {
     "name": "stdout",
     "output_type": "stream",
     "text": [
      "Lreetham\n",
      "etham\n",
      "Preetham\n",
      "Preetham\n",
      "mahteerP\n",
      "Pre\n",
      "m\n",
      "h\n",
      "Preetham Lreetham\n",
      "PreethamPreethamPreethamPreethamPreethamPreethamPreethamPreethamPreethamPreetham\n",
      "13579\n",
      "2468\n",
      "97531\n",
      "1357\n"
     ]
    }
   ],
   "source": [
    "str1 = \"Preetham\"\n",
    "        # 0,1,2,3,4,5,6,7,8,\n",
    "        #  -8           -3,-2,-1\n",
    "        \n",
    "# immutable\n",
    "# cannot be changed after assiging\n",
    "\n",
    "str2 = \"L\"+str1[1:]\n",
    "print(str2)\n",
    "\n",
    "\n",
    "# slicing\n",
    "print(str1[3:])\n",
    "print(str1)\n",
    "print(str1[:])\n",
    "print(str1[::-1])\n",
    "print(str1[:3])\n",
    "\n",
    "# indexing\n",
    "print(str1[7])\n",
    "print(str1[-3])\n",
    "# concatination\n",
    "print(str1+\" \"+str2)\n",
    "\n",
    "\n",
    "# multipliy\n",
    "print(str1*10)\n",
    "\n",
    "## jumping\n",
    "\n",
    "str1 = \"123456789\"\n",
    "print(str1[::2])\n",
    "print(str1[1::2])\n",
    "print(str1[::-2])\n",
    "\n"
   ]
  },
  {
   "cell_type": "code",
   "execution_count": 41,
   "metadata": {},
   "outputs": [
    {
     "data": {
      "text/plain": [
       "['Python', 2, 3, 4, 'Zaid', 'Preethan']"
      ]
     },
     "execution_count": 41,
     "metadata": {},
     "output_type": "execute_result"
    }
   ],
   "source": [
    "## list\n",
    "\n",
    "list1 = [1,2,3,4,\"Zaid\", \"Preethan\"]\n",
    "list2 = list([5,6,7, \"Sameer\"]) # = list()\n",
    "\n",
    "list1[0] = \"Python\"\n",
    "list1"
   ]
  },
  {
   "cell_type": "code",
   "execution_count": 44,
   "metadata": {},
   "outputs": [
    {
     "ename": "TypeError",
     "evalue": "'tuple' object does not support item assignment",
     "output_type": "error",
     "traceback": [
      "\u001b[1;31m---------------------------------------------------------------------------\u001b[0m",
      "\u001b[1;31mTypeError\u001b[0m                                 Traceback (most recent call last)",
      "Cell \u001b[1;32mIn[44], line 4\u001b[0m\n\u001b[0;32m      1\u001b[0m \u001b[39m# tuple\u001b[39;00m\n\u001b[0;32m      3\u001b[0m tuple1 \u001b[39m=\u001b[39m (\u001b[39m1\u001b[39m,\u001b[39m2\u001b[39m,\u001b[39m3\u001b[39m,\u001b[39m4\u001b[39m,\u001b[39m5\u001b[39m,\u001b[39m\"\u001b[39m\u001b[39mZaid\u001b[39m\u001b[39m\"\u001b[39m, \u001b[39m\"\u001b[39m\u001b[39mPreetham\u001b[39m\u001b[39m\"\u001b[39m)\n\u001b[1;32m----> 4\u001b[0m tuple1[\u001b[39m1\u001b[39m] \u001b[39m=\u001b[39m \u001b[39m\"\u001b[39m\u001b[39mpytohn\u001b[39m\u001b[39m\"\u001b[39m\n",
      "\u001b[1;31mTypeError\u001b[0m: 'tuple' object does not support item assignment"
     ]
    }
   ],
   "source": [
    "# tuple\n",
    "\n",
    "tuple1 = (1,2,3,4,5,\"Zaid\", \"Preetham\")\n",
    "tuple1[1] = \"pytohn\""
   ]
  },
  {
   "cell_type": "code",
   "execution_count": null,
   "metadata": {},
   "outputs": [],
   "source": []
  }
 ],
 "metadata": {
  "kernelspec": {
   "display_name": "base",
   "language": "python",
   "name": "python3"
  },
  "language_info": {
   "codemirror_mode": {
    "name": "ipython",
    "version": 3
   },
   "file_extension": ".py",
   "mimetype": "text/x-python",
   "name": "python",
   "nbconvert_exporter": "python",
   "pygments_lexer": "ipython3",
   "version": "3.9.12"
  },
  "orig_nbformat": 4,
  "vscode": {
   "interpreter": {
    "hash": "49cb93f377a7abe7414b7b0f21fb3017538004a126cf690fb524202736b7fb92"
   }
  }
 },
 "nbformat": 4,
 "nbformat_minor": 2
}
