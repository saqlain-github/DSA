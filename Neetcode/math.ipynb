{
 "cells": [
  {
   "cell_type": "code",
   "execution_count": 1,
   "metadata": {},
   "outputs": [],
   "source": [
    "from typing import List"
   ]
  },
  {
   "attachments": {},
   "cell_type": "markdown",
   "metadata": {},
   "source": [
    "#### Ugly Number"
   ]
  },
  {
   "cell_type": "code",
   "execution_count": 11,
   "metadata": {},
   "outputs": [
    {
     "data": {
      "text/plain": [
       "True"
      ]
     },
     "execution_count": 11,
     "metadata": {},
     "output_type": "execute_result"
    }
   ],
   "source": [
    "class Solution:\n",
    "    def isUgly(self, n: int) -> bool:\n",
    "        if n < 1:\n",
    "            return False\n",
    "        for i in [2,3,5]:\n",
    "            while n%i == 0:\n",
    "                n = n//i\n",
    "        return n==1\n",
    "    \n",
    "obj = Solution()\n",
    "obj.isUgly(1)"
   ]
  },
  {
   "attachments": {},
   "cell_type": "markdown",
   "metadata": {},
   "source": [
    "#### Continuous Subarray Sum"
   ]
  },
  {
   "cell_type": "code",
   "execution_count": 3,
   "metadata": {},
   "outputs": [],
   "source": [
    "class Solution:\n",
    "    def checkSubarraySum(self, nums: List[int], k: int) -> bool:\n",
    "        count = 0\n",
    "        for i in nums:\n",
    "            if k//i == 0:\n",
    "                count += 1\n",
    "    \n",
    "    \n",
    "obj = Solution()\n",
    "obj.checkSubarraySum([23,2,4,6,7], 6)\n"
   ]
  },
  {
   "attachments": {},
   "cell_type": "markdown",
   "metadata": {},
   "source": [
    "#### String to Integer"
   ]
  },
  {
   "cell_type": "code",
   "execution_count": 16,
   "metadata": {},
   "outputs": [
    {
     "data": {
      "text/plain": [
       "0"
      ]
     },
     "execution_count": 16,
     "metadata": {},
     "output_type": "execute_result"
    }
   ],
   "source": [
    "class Solution:\n",
    "    def myAtoi(self, s: str) -> int:\n",
    "        str = s.strip()\n",
    "        if not str:\n",
    "            return 0\n",
    "        sign = -1 if str[0] == '-' else 1\n",
    "        str = str[1:] if str[0] in ['-', '+'] else str\n",
    "        res = 0\n",
    "        for char in str:\n",
    "            if not char.isdigit():\n",
    "                break\n",
    "            res = res * 10 + int(char)\n",
    "            if res * sign >= 2**31 - 1:\n",
    "                return 2**31 - 1\n",
    "            if res * sign <= -2**31:\n",
    "                return -2**31\n",
    "        return res * sign\n",
    "            \n",
    "obj = Solution()\n",
    "obj.myAtoi(\"and 123\" )"
   ]
  },
  {
   "attachments": {},
   "cell_type": "markdown",
   "metadata": {},
   "source": [
    "#### Kth Missing Positive Number"
   ]
  },
  {
   "cell_type": "code",
   "execution_count": 29,
   "metadata": {},
   "outputs": [
    {
     "name": "stdout",
     "output_type": "stream",
     "text": [
      "1 1 [1, 2]\n",
      "1 2 [2]\n",
      "1 3 []\n",
      "2 4 []\n"
     ]
    },
    {
     "data": {
      "text/plain": [
       "5"
      ]
     },
     "execution_count": 29,
     "metadata": {},
     "output_type": "execute_result"
    }
   ],
   "source": [
    "class Solution:\n",
    "    def findKthPositive(self, arr: List[int], k: int) -> int:\n",
    "        element = 1\n",
    "        i = 1\n",
    "        \n",
    "        while i<k:\n",
    "            print(i, element, arr)\n",
    "            if element in arr:\n",
    "                arr = arr[1:]\n",
    "                i -=1\n",
    "            i += 1\n",
    "            element += 1\n",
    "                \n",
    "        return element\n",
    "    \n",
    "obj = Solution()\n",
    "obj.findKthPositive([1,2],3)"
   ]
  },
  {
   "cell_type": "code",
   "execution_count": null,
   "metadata": {},
   "outputs": [],
   "source": []
  }
 ],
 "metadata": {
  "kernelspec": {
   "display_name": "base",
   "language": "python",
   "name": "python3"
  },
  "language_info": {
   "codemirror_mode": {
    "name": "ipython",
    "version": 3
   },
   "file_extension": ".py",
   "mimetype": "text/x-python",
   "name": "python",
   "nbconvert_exporter": "python",
   "pygments_lexer": "ipython3",
   "version": "3.9.12"
  },
  "orig_nbformat": 4,
  "vscode": {
   "interpreter": {
    "hash": "49cb93f377a7abe7414b7b0f21fb3017538004a126cf690fb524202736b7fb92"
   }
  }
 },
 "nbformat": 4,
 "nbformat_minor": 2
}
