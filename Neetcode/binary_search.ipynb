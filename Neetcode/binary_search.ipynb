{
 "cells": [
  {
   "cell_type": "code",
   "execution_count": 1,
   "metadata": {},
   "outputs": [],
   "source": [
    "from typing import List"
   ]
  },
  {
   "attachments": {},
   "cell_type": "markdown",
   "metadata": {},
   "source": [
    "#### Binary Search"
   ]
  },
  {
   "cell_type": "code",
   "execution_count": 3,
   "metadata": {},
   "outputs": [
    {
     "name": "stdout",
     "output_type": "stream",
     "text": [
      "0 3 6\n",
      "0 1 2\n",
      "2 2 2\n"
     ]
    },
    {
     "data": {
      "text/plain": [
       "2"
      ]
     },
     "execution_count": 3,
     "metadata": {},
     "output_type": "execute_result"
    }
   ],
   "source": [
    "\n",
    "def search(nums: List[int], target: int) -> int:\n",
    "    low = 0\n",
    "    high = len(nums)-1   \n",
    "    while low <= high:\n",
    "        mid = (low+high)//2 \n",
    "        print(low, mid, high)      \n",
    "        if target == nums[mid]:\n",
    "            return mid       \n",
    "        elif target > nums[mid]:\n",
    "            low = mid + 1            \n",
    "        else:\n",
    "            high = mid - 1\n",
    "            \n",
    "    return low\n",
    "   \n",
    "search([1,3,5,6,7,8,9],4)"
   ]
  },
  {
   "attachments": {},
   "cell_type": "markdown",
   "metadata": {},
   "source": [
    "#### Valid Perfect Square"
   ]
  },
  {
   "cell_type": "code",
   "execution_count": 7,
   "metadata": {},
   "outputs": [
    {
     "name": "stdout",
     "output_type": "stream",
     "text": [
      "0 2 4\n",
      "3 3 4\n"
     ]
    },
    {
     "data": {
      "text/plain": [
       "(3, True)"
      ]
     },
     "execution_count": 7,
     "metadata": {},
     "output_type": "execute_result"
    }
   ],
   "source": [
    "class Solution:\n",
    "    def isPerfectSquare(self, num: int) -> bool: \n",
    "        if num == 1:\n",
    "            return True\n",
    "        low = 0\n",
    "        high = num//2  \n",
    "        while low <= high:\n",
    "            mid = (low+high)//2 \n",
    "            \n",
    "            print(low, mid, high)      \n",
    "            if num == mid**2:\n",
    "                return mid, True       \n",
    "            elif num > mid**2:\n",
    "                low = mid + 1            \n",
    "            else:\n",
    "                high = mid - 1\n",
    "                \n",
    "        return False\n",
    "    \n",
    "obj = Solution()\n",
    "obj.isPerfectSquare(9)"
   ]
  },
  {
   "attachments": {},
   "cell_type": "markdown",
   "metadata": {},
   "source": [
    "#### Find First and Last Position of Element in Sorted Array"
   ]
  },
  {
   "cell_type": "code",
   "execution_count": 23,
   "metadata": {},
   "outputs": [
    {
     "name": "stdout",
     "output_type": "stream",
     "text": [
      "0 3 7\n",
      "0 1 2\n",
      "2 2 2\n",
      "0 3 7\n",
      "4 5 7\n",
      "6 6 7\n",
      "7 7 7\n"
     ]
    },
    {
     "data": {
      "text/plain": [
       "[2, 6]"
      ]
     },
     "execution_count": 23,
     "metadata": {},
     "output_type": "execute_result"
    }
   ],
   "source": [
    "class Solution:\n",
    "    def firstIndex(self, nums, target):\n",
    "        low = 0\n",
    "        high = len(nums)-1  \n",
    "        left = -1\n",
    "        while low <= high:\n",
    "            mid = (low+high)//2 \n",
    "            print(low, mid, high)      \n",
    "            if target == nums[mid]:\n",
    "                left = mid \n",
    "                high = mid -1      \n",
    "            elif target > nums[mid]:\n",
    "                low = mid + 1            \n",
    "            else:\n",
    "                high = mid - 1\n",
    "        return left\n",
    "    \n",
    "    \n",
    "    def lastIndex(self, nums, target):\n",
    "        low = 0\n",
    "        high = len(nums)-1  \n",
    "        right = -1\n",
    "        while low <= high:\n",
    "            mid = (low+high)//2 \n",
    "            print(low, mid, high)      \n",
    "            if target == nums[mid]:\n",
    "                right = mid \n",
    "                low = mid +1      \n",
    "            elif target > nums[mid]:\n",
    "                low = mid + 1            \n",
    "            else:\n",
    "                high = mid - 1\n",
    "        return right\n",
    "    \n",
    "    def searchRange(self, nums: List[int], target: int) -> List[int]:\n",
    "        return [self.firstIndex(nums, target), self.lastIndex(nums, target)]\n",
    "\n",
    "    \n",
    "obj = Solution()\n",
    "obj.searchRange([5,7,8,8,8,8,8,9], 8)"
   ]
  },
  {
   "attachments": {},
   "cell_type": "markdown",
   "metadata": {},
   "source": [
    "#### Search a 2D Matrix"
   ]
  },
  {
   "cell_type": "code",
   "execution_count": 59,
   "metadata": {},
   "outputs": [
    {
     "name": "stdout",
     "output_type": "stream",
     "text": [
      "1\n",
      "1\n",
      "0 0\n",
      "1 [1]\n"
     ]
    },
    {
     "data": {
      "text/plain": [
       "True"
      ]
     },
     "execution_count": 59,
     "metadata": {},
     "output_type": "execute_result"
    }
   ],
   "source": [
    "class Solution:\n",
    "    \n",
    "    def search(self,nums: List[int], target: int):\n",
    "        low = 0\n",
    "        high = len(nums)-1   \n",
    "        while low <= high:\n",
    "            mid = (low+high)//2     \n",
    "            if target == nums[mid]:\n",
    "                return True      \n",
    "            elif target > nums[mid]:\n",
    "                low = mid + 1            \n",
    "            else:\n",
    "                high = mid - 1\n",
    "        return False\n",
    "\n",
    "\n",
    "    def searchMatrix(self, matrix: List[List[int]], target: int) -> bool:\n",
    "        left = 0\n",
    "        right = len(matrix[0])-1\n",
    "        \n",
    "        height = len(matrix)\n",
    "        print(height)\n",
    "        width = len(matrix[0])\n",
    "        print(width)\n",
    "        \n",
    "        while left < height and right <= height*width:\n",
    "            print(left, right%width)\n",
    "            element = matrix[left][right%width]\n",
    "            print(element, matrix[left])\n",
    "            if target <= element:\n",
    "                return self.search(matrix[left], target)\n",
    "            else:\n",
    "                right += width\n",
    "                left += 1\n",
    "        \n",
    "        return False\n",
    "    \n",
    "obj = Solution()\n",
    "obj.searchMatrix([[1]],1)"
   ]
  },
  {
   "attachments": {},
   "cell_type": "markdown",
   "metadata": {},
   "source": [
    "#### Nearly Sorted"
   ]
  },
  {
   "cell_type": "code",
   "execution_count": 8,
   "metadata": {},
   "outputs": [
    {
     "name": "stdout",
     "output_type": "stream",
     "text": [
      "0 3 6\n",
      "0 0 1\n"
     ]
    },
    {
     "data": {
      "text/plain": [
       "0"
      ]
     },
     "execution_count": 8,
     "metadata": {},
     "output_type": "execute_result"
    }
   ],
   "source": [
    "def searchNearlySorted(nums, target):\n",
    "    left = 0\n",
    "    right = len(nums)-1\n",
    "    \n",
    "    while left <= right:\n",
    "        mid = (left+right) //2\n",
    "        print(left, mid, right)\n",
    "        if target == nums[mid]:\n",
    "            return mid\n",
    "        elif mid-1 >= left and target == nums[mid-1]:\n",
    "            return mid-1\n",
    "        elif mid+1 <= right and target == nums[mid+1]:\n",
    "            return mid+1\n",
    "        \n",
    "        if target > nums[mid-1] :\n",
    "            left = mid + 2\n",
    "        else:\n",
    "            right = mid - 2\n",
    "        \n",
    "            \n",
    "    return -1\n",
    "\n",
    "searchNearlySorted([1,2,3,4,6,5,7],1)\n",
    "### IN nearly sorted array i can be in i-1, i and i+1"
   ]
  },
  {
   "cell_type": "markdown",
   "metadata": {},
   "source": [
    "#### Find Floor in sorted arrray"
   ]
  },
  {
   "cell_type": "code",
   "execution_count": 9,
   "metadata": {},
   "outputs": [
    {
     "name": "stdout",
     "output_type": "stream",
     "text": [
      "0 2 5\n",
      "3 4 5\n",
      "5 5 5\n"
     ]
    },
    {
     "data": {
      "text/plain": [
       "9"
      ]
     },
     "execution_count": 9,
     "metadata": {},
     "output_type": "execute_result"
    }
   ],
   "source": [
    "\n",
    "def search(nums: List[int], target: int) -> int:\n",
    "    low = 0\n",
    "    high = len(nums)-1   \n",
    "    while low <= high:\n",
    "        mid = (low+high)//2 \n",
    "        print(low, mid, high)      \n",
    "        if target == nums[mid]:\n",
    "            return mid       \n",
    "        elif target > nums[mid]:\n",
    "            low = mid + 1            \n",
    "        else:\n",
    "            high = mid - 1\n",
    "            \n",
    "    return nums[low-1]\n",
    "   \n",
    "search([1,3,5,6,7,9],10)"
   ]
  },
  {
   "attachments": {},
   "cell_type": "markdown",
   "metadata": {},
   "source": [
    "#### Seiling in Sorted array"
   ]
  },
  {
   "cell_type": "code",
   "execution_count": 13,
   "metadata": {},
   "outputs": [
    {
     "name": "stdout",
     "output_type": "stream",
     "text": [
      "0 2 5\n",
      "3 4 5\n",
      "5 5 5\n"
     ]
    },
    {
     "data": {
      "text/plain": [
       "9"
      ]
     },
     "execution_count": 13,
     "metadata": {},
     "output_type": "execute_result"
    }
   ],
   "source": [
    "\n",
    "def search(nums: List[int], target: int) -> int:\n",
    "    low = 0\n",
    "    high = len(nums)-1   \n",
    "    while low <= high:\n",
    "        mid = (low+high)//2 \n",
    "        print(low, mid, high)      \n",
    "        if target == nums[mid]:\n",
    "            return nums[mid]       \n",
    "        elif target > nums[mid]:\n",
    "            low = mid + 1            \n",
    "        else:\n",
    "            high = mid - 1\n",
    "            \n",
    "    return nums[high+1]\n",
    "\n",
    "\n",
    "search([1,3,5,6,7,9],8)"
   ]
  },
  {
   "attachments": {},
   "cell_type": "markdown",
   "metadata": {},
   "source": [
    "#### find-rotation-count-rotated-sorted-array"
   ]
  },
  {
   "cell_type": "code",
   "execution_count": 29,
   "metadata": {},
   "outputs": [
    {
     "name": "stdout",
     "output_type": "stream",
     "text": [
      "0 4 8\n",
      "5 6 8\n",
      "5 5 5\n"
     ]
    },
    {
     "data": {
      "text/plain": [
       "5"
      ]
     },
     "execution_count": 29,
     "metadata": {},
     "output_type": "execute_result"
    }
   ],
   "source": [
    "def rotationCount(nums):\n",
    "    left = 0\n",
    "    n = len(nums)\n",
    "    right = n-1\n",
    "    \n",
    "    while left <= right:\n",
    "        mid = left+ (right - left)//2\n",
    "        print(left, mid, right)\n",
    "        prev = (mid-1+n)%n \n",
    "        next = (mid+1)%n\n",
    "        \n",
    "        if (nums[mid] <= nums[next])  and (nums[mid] <= nums[prev]):\n",
    "            return mid\n",
    "        elif nums[mid] <= nums[right]:\n",
    "            right = mid-1\n",
    "        elif nums[mid] >= nums[left]:\n",
    "            left = mid+1\n",
    "            \n",
    "\n",
    "rotationCount([15, 18, 19, 20, 21,  2, 3, 6, 12])\n",
    "            \n",
    "            "
   ]
  },
  {
   "attachments": {},
   "cell_type": "markdown",
   "metadata": {},
   "source": [
    "#### Find Minimum in Rotated Sorted Array"
   ]
  },
  {
   "cell_type": "code",
   "execution_count": 31,
   "metadata": {},
   "outputs": [
    {
     "name": "stdout",
     "output_type": "stream",
     "text": [
      "0 4 8\n",
      "5 6 8\n",
      "5 5 5\n"
     ]
    },
    {
     "data": {
      "text/plain": [
       "2"
      ]
     },
     "execution_count": 31,
     "metadata": {},
     "output_type": "execute_result"
    }
   ],
   "source": [
    "class Solution:\n",
    "    def findMin(self, nums: List[int]) -> int:\n",
    "        left = 0\n",
    "        n = len(nums)\n",
    "        right = n-1\n",
    "        \n",
    "        while left <= right:\n",
    "            mid = left+ (right - left)//2\n",
    "            print(left, mid, right)\n",
    "            prev = (mid-1+n)%n \n",
    "            next = (mid+1)%n\n",
    "            \n",
    "            if (nums[mid] <= nums[next])  and (nums[mid] <= nums[prev]):\n",
    "                return nums[mid]\n",
    "            elif nums[mid] <= nums[right]:\n",
    "                right = mid-1\n",
    "            elif nums[mid] >= nums[left]:\n",
    "                left = mid+1\n",
    "                \n",
    "\n",
    "obj = Solution()\n",
    "obj.findMin([15, 18, 19, 20, 21,  2, 3, 6, 12])\n",
    "            \n",
    "            "
   ]
  },
  {
   "attachments": {},
   "cell_type": "markdown",
   "metadata": {},
   "source": [
    "#### Search in Rotated Sorted Array"
   ]
  },
  {
   "cell_type": "code",
   "execution_count": 49,
   "metadata": {},
   "outputs": [
    {
     "name": "stdout",
     "output_type": "stream",
     "text": [
      "4\n",
      "0 3 5 6\n",
      "0 3\n",
      "[4, 5, 6, 7, 0, 1, 2] 0 3\n"
     ]
    },
    {
     "data": {
      "text/plain": [
       "1"
      ]
     },
     "execution_count": 49,
     "metadata": {},
     "output_type": "execute_result"
    }
   ],
   "source": [
    "\n",
    "class Solution:\n",
    "    def findMin(self, nums: List[int]) -> int:\n",
    "        left = 0\n",
    "        n = len(nums)\n",
    "        right = n-1\n",
    "        \n",
    "        while left <= right:\n",
    "            mid = left+ (right - left)//2\n",
    "            prev = (mid-1+n)%n \n",
    "            next = (mid+1)%n\n",
    "            \n",
    "            if (nums[mid] <= nums[next])  and (nums[mid] <= nums[prev]):\n",
    "                return mid\n",
    "            elif nums[mid] <= nums[right]:\n",
    "                right = mid-1\n",
    "            elif nums[mid] >= nums[left]:\n",
    "                left = mid+1\n",
    "                \n",
    "    def binarySearch(self,nums,start, end, target):\n",
    "        while(start <= end):\n",
    "            print(nums, start, end)\n",
    "            mid = (start+end)//2\n",
    "            if nums[mid] == target:\n",
    "                return mid\n",
    "            if nums[mid] < target:\n",
    "                start = mid+1\n",
    "            elif nums[mid] > target:\n",
    "                end = mid-1\n",
    "                \n",
    "        return -1\n",
    "            \n",
    "    def search(self, nums: List[int], target: int) -> int:\n",
    "        min_index = self.findMin(nums)\n",
    "        print(min_index)\n",
    "        if nums[min_index] == target:\n",
    "            return min_index\n",
    "        \n",
    "        start = 0\n",
    "        n = len(nums)\n",
    "        end = n-1\n",
    "        \n",
    "        prev = (min_index+n-1)%n\n",
    "        next = (min_index+1)%n\n",
    "        print(start, prev, next, end)\n",
    "        \n",
    "        ### according to video here we can used start-prev and end-next both and which returns positive thats the answer\n",
    "        if nums[start] <= target and target <= nums[prev]:\n",
    "            end = prev\n",
    "        elif nums[next] <= target and target <= nums[end]:\n",
    "            start = next\n",
    "            \n",
    "        print(start, end)\n",
    "        result = self.binarySearch(nums, start, end, target)\n",
    "        return result\n",
    "\n",
    "obj = Solution()\n",
    "obj.search([4,5,6,7,0,1,2],5)"
   ]
  },
  {
   "attachments": {},
   "cell_type": "markdown",
   "metadata": {},
   "source": [
    "#### Find element in a infinite sorted array"
   ]
  },
  {
   "cell_type": "code",
   "execution_count": 56,
   "metadata": {},
   "outputs": [
    {
     "data": {
      "text/plain": [
       "3"
      ]
     },
     "execution_count": 56,
     "metadata": {},
     "output_type": "execute_result"
    }
   ],
   "source": [
    "def binarySearch(nums,start, end, target):\n",
    "    while(start <= end):\n",
    "        mid = (start+end)//2\n",
    "        if nums[mid] == target:\n",
    "            return mid\n",
    "        if nums[mid] < target:\n",
    "            start = mid+1\n",
    "        elif nums[mid] > target:\n",
    "            end = mid-1\n",
    "            \n",
    "    return -1\n",
    "\n",
    "def infiniteSearch(nums, target):\n",
    "    start = 0\n",
    "    end = 1\n",
    "    \n",
    "    while target >  nums[end]:\n",
    "        start = end\n",
    "        end = end*2\n",
    "        \n",
    "    return binarySearch(nums, start, end, target)\n",
    "    \n",
    "    \n",
    "infiniteSearch([i for i in range(1, 1000, 2)], 7)"
   ]
  },
  {
   "cell_type": "code",
   "execution_count": null,
   "metadata": {},
   "outputs": [],
   "source": []
  }
 ],
 "metadata": {
  "kernelspec": {
   "display_name": "base",
   "language": "python",
   "name": "python3"
  },
  "language_info": {
   "codemirror_mode": {
    "name": "ipython",
    "version": 3
   },
   "file_extension": ".py",
   "mimetype": "text/x-python",
   "name": "python",
   "nbconvert_exporter": "python",
   "pygments_lexer": "ipython3",
   "version": "3.9.12"
  },
  "orig_nbformat": 4,
  "vscode": {
   "interpreter": {
    "hash": "49cb93f377a7abe7414b7b0f21fb3017538004a126cf690fb524202736b7fb92"
   }
  }
 },
 "nbformat": 4,
 "nbformat_minor": 2
}
