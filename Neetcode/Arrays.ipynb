{
 "cells": [
  {
   "cell_type": "code",
   "execution_count": 1,
   "metadata": {},
   "outputs": [],
   "source": [
    "from typing import List"
   ]
  },
  {
   "attachments": {},
   "cell_type": "markdown",
   "metadata": {},
   "source": [
    "#### Contain Duplicates"
   ]
  },
  {
   "cell_type": "code",
   "execution_count": 5,
   "metadata": {},
   "outputs": [
    {
     "data": {
      "text/plain": [
       "'true'"
      ]
     },
     "execution_count": 5,
     "metadata": {},
     "output_type": "execute_result"
    }
   ],
   "source": [
    "def containsDuplicate(nums) -> bool:\n",
    "    dict_num = {}\n",
    "    for i in nums:\n",
    "        if i in dict_num.keys():\n",
    "            return \"true\"\n",
    "        else:\n",
    "            dict_num[i] = 1 \n",
    "    return \"false\"\n",
    "\n",
    "containsDuplicate([1,2,3,4,4])"
   ]
  },
  {
   "attachments": {},
   "cell_type": "markdown",
   "metadata": {},
   "source": [
    "#### Max Sub Array"
   ]
  },
  {
   "cell_type": "code",
   "execution_count": 30,
   "metadata": {},
   "outputs": [
    {
     "name": "stdout",
     "output_type": "stream",
     "text": [
      "0 1 [1] 1\n"
     ]
    },
    {
     "data": {
      "text/plain": [
       "1"
      ]
     },
     "execution_count": 30,
     "metadata": {},
     "output_type": "execute_result"
    }
   ],
   "source": [
    "def maxSubArray(nums):\n",
    "    max = -100000\n",
    "    n = len(nums)\n",
    "    i = len(nums) - 1\n",
    "    for i in range(i+1,0,-1):\n",
    "        for j in range(0,n-i+1): \n",
    "            print(j, j+i, nums[j:j+i],sum(nums[j:j+i]))\n",
    "            if max < sum(nums[j:j+i]):\n",
    "                max = sum(nums[j:j+i])\n",
    "    return max\n",
    "\n",
    "maxSubArray([1])"
   ]
  },
  {
   "cell_type": "code",
   "execution_count": 34,
   "metadata": {},
   "outputs": [
    {
     "data": {
      "text/plain": [
       "23"
      ]
     },
     "execution_count": 34,
     "metadata": {},
     "output_type": "execute_result"
    }
   ],
   "source": [
    "## kadanes algorithm\n",
    "\n",
    "def maxSubArray(nums):\n",
    "    max = -10000000\n",
    "    curr_max = 0\n",
    "    for i in nums:\n",
    "        curr_max = curr_max + i\n",
    "        if curr_max > max:\n",
    "            max = curr_max\n",
    "        if curr_max <= 0:\n",
    "            curr_max = 0\n",
    "    return max\n",
    "\n",
    "maxSubArray([5,4,-1,7,8])"
   ]
  },
  {
   "attachments": {},
   "cell_type": "markdown",
   "metadata": {},
   "source": [
    "#### Dividing two numbers"
   ]
  },
  {
   "cell_type": "code",
   "execution_count": 51,
   "metadata": {},
   "outputs": [
    {
     "name": "stdout",
     "output_type": "stream",
     "text": [
      "1 1\n",
      "0 1\n"
     ]
    },
    {
     "data": {
      "text/plain": [
       "1"
      ]
     },
     "execution_count": 51,
     "metadata": {},
     "output_type": "execute_result"
    }
   ],
   "source": [
    "def divide(dividend: int, divisor: int) -> int:\n",
    "    quotient = 0\n",
    "    sign = -1 if((dividend < 0) ^ (divisor < 0)) else 1\n",
    "    divisor = abs(divisor)\n",
    "    dividend = abs(dividend)\n",
    "    print(dividend, divisor)\n",
    "    while(dividend >= divisor):\n",
    "        dividend -= divisor\n",
    "        quotient += 1 \n",
    "        print(dividend, divisor)\n",
    "    if sign == -1:\n",
    "        quotient = -quotient\n",
    "    return quotient\n",
    "\n",
    "\n",
    "divide(1,1)"
   ]
  },
  {
   "attachments": {},
   "cell_type": "markdown",
   "metadata": {},
   "source": [
    "#### Excel Column Titila"
   ]
  },
  {
   "cell_type": "code",
   "execution_count": 100,
   "metadata": {},
   "outputs": [
    {
     "name": "stdout",
     "output_type": "stream",
     "text": [
      "0 3 0\n",
      "1 2 3\n",
      "2 1 55\n"
     ]
    },
    {
     "data": {
      "text/plain": [
       "731"
      ]
     },
     "execution_count": 100,
     "metadata": {},
     "output_type": "execute_result"
    }
   ],
   "source": [
    "str = \"ABC\"\n",
    "sum = 0\n",
    "for i, x in enumerate(str[::-1]):\n",
    "    print(i, ord(x)-64, sum)\n",
    "    sum += (26**i) * (ord(x)-64)\n",
    "    \n",
    "sum"
   ]
  },
  {
   "cell_type": "code",
   "execution_count": 101,
   "metadata": {},
   "outputs": [],
   "source": [
    "ABC =  (26**2 * 1)+(26**1 * 2)+(26**0 * 3)"
   ]
  },
  {
   "cell_type": "code",
   "execution_count": 103,
   "metadata": {},
   "outputs": [
    {
     "data": {
      "text/plain": [
       "24"
      ]
     },
     "execution_count": 103,
     "metadata": {},
     "output_type": "execute_result"
    }
   ],
   "source": [
    "123//5"
   ]
  },
  {
   "attachments": {},
   "cell_type": "markdown",
   "metadata": {},
   "source": [
    "#### Replace Elements with Greatest Element on Right Side"
   ]
  },
  {
   "cell_type": "code",
   "execution_count": 9,
   "metadata": {},
   "outputs": [
    {
     "data": {
      "text/plain": [
       "[18, 6, 6, 6, 1, -1]"
      ]
     },
     "execution_count": 9,
     "metadata": {},
     "output_type": "execute_result"
    }
   ],
   "source": [
    "def replaceElements(arr):\n",
    "    size = len(arr)\n",
    "    max = -10000\n",
    "    temp = arr.copy()\n",
    "    for i in range(size-2, -1,-1):\n",
    "        if arr[i+1] > max:\n",
    "            max = arr[i+1]\n",
    "        temp[i] = max\n",
    "        \n",
    "    temp[size-1] = -1\n",
    "    return temp\n",
    "\n",
    "replaceElements([17,18,5,4,6,1])"
   ]
  },
  {
   "cell_type": "code",
   "execution_count": 11,
   "metadata": {},
   "outputs": [
    {
     "data": {
      "text/plain": [
       "[18, 6, 6, 6, 1, -1]"
      ]
     },
     "execution_count": 11,
     "metadata": {},
     "output_type": "execute_result"
    }
   ],
   "source": [
    "def replaceElements(arr):\n",
    "    size = len(arr)\n",
    "    max_right = arr[size-1]\n",
    "    arr[size-1] = -1\n",
    "    for i in range(size-2, -1,-1):\n",
    "        temp = arr[i]\n",
    "        arr[i] = max_right\n",
    "        if max_right < temp:\n",
    "            max_right = temp\n",
    "    return arr\n",
    "\n",
    "replaceElements([17,18,5,4,6,1])"
   ]
  },
  {
   "attachments": {},
   "cell_type": "markdown",
   "metadata": {},
   "source": [
    "#### Is Subsequence"
   ]
  },
  {
   "cell_type": "code",
   "execution_count": 46,
   "metadata": {},
   "outputs": [
    {
     "name": "stdout",
     "output_type": "stream",
     "text": [
      "1 0\n",
      "2 1\n",
      "2 2\n",
      "2 3\n",
      "3 4\n"
     ]
    },
    {
     "data": {
      "text/plain": [
       "True"
      ]
     },
     "execution_count": 46,
     "metadata": {},
     "output_type": "execute_result"
    }
   ],
   "source": [
    "def isSubsequence(s: str, t: str):\n",
    "    result:bool = False\n",
    "    if not len(s):\n",
    "        result = True\n",
    "        return result\n",
    "    s_counter = 0\n",
    "    for t_counter in range(len(t)):\n",
    "        if s[s_counter] == t[t_counter]:\n",
    "            s_counter += 1\n",
    "        print( s_counter, t_counter)\n",
    "        if s_counter == len(s):\n",
    "            result = True\n",
    "            break\n",
    "        if t_counter == len(t)-1 and s_counter < len(s):\n",
    "            return False\n",
    "            break\n",
    "    return result\n",
    "\n",
    "isSubsequence(\"abc\", \"abdecf\")"
   ]
  },
  {
   "attachments": {},
   "cell_type": "markdown",
   "metadata": {},
   "source": [
    "#### Length of Last Word"
   ]
  },
  {
   "cell_type": "code",
   "execution_count": 92,
   "metadata": {},
   "outputs": [
    {
     "data": {
      "text/plain": [
       "0"
      ]
     },
     "execution_count": 92,
     "metadata": {},
     "output_type": "execute_result"
    }
   ],
   "source": [
    "def lengthOfLastWord(s):\n",
    "    length = 0\n",
    "    flag = 0 \n",
    "    for i in range(len(s)-1, -1, -1):\n",
    "        if s[i] == \" \" and flag == 0:\n",
    "            continue\n",
    "        if (not s[i] == \" \") and (flag == 0):\n",
    "            flag = 1\n",
    "            #length += 1\n",
    "        if (not s[i] == \" \") and (flag == 1):\n",
    "            length += 1\n",
    "        if flag == 1 and (s[i] == \" \"):\n",
    "            break\n",
    "    return length\n",
    "\n",
    "s = \" \"\n",
    "lengthOfLastWord(s)"
   ]
  },
  {
   "attachments": {},
   "cell_type": "markdown",
   "metadata": {},
   "source": [
    "#### Pascal's Triangle"
   ]
  },
  {
   "cell_type": "code",
   "execution_count": 33,
   "metadata": {},
   "outputs": [
    {
     "name": "stdout",
     "output_type": "stream",
     "text": [
      "[[1], [1, 1], [1, 2, 1], [1, 3, 3, 1], [1, 4, 6, 4, 1]]\n"
     ]
    }
   ],
   "source": [
    "class Solution:\n",
    "    def appender(self, num, x):\n",
    "        return num.append(x)\n",
    "        \n",
    "    def generate(self, numRows: int) -> List[List[int]]:\n",
    "        nums = [[1] for i in range(numRows)]\n",
    "        if len(nums) == 1:\n",
    "            return nums\n",
    "        else:\n",
    "            self.appender(nums[1], 1)\n",
    "            for i in range(2, len(nums)):\n",
    "                for j in range(1,i):            \n",
    "                    self.appender(nums[i], nums[i-1][j-1]+nums[i-1][j]) \n",
    "                self.appender(nums[i], 1)\n",
    "                \n",
    "                \n",
    "        print(nums)\n",
    "        \n",
    "        \n",
    "objects = Solution()\n",
    "objects.generate(5)"
   ]
  },
  {
   "cell_type": "code",
   "execution_count": 13,
   "metadata": {},
   "outputs": [
    {
     "data": {
      "text/plain": [
       "3"
      ]
     },
     "execution_count": 13,
     "metadata": {},
     "output_type": "execute_result"
    }
   ],
   "source": [
    "nums = [[1,2,3],[4,5,6]]\n",
    "nums[0][2]"
   ]
  },
  {
   "attachments": {},
   "cell_type": "markdown",
   "metadata": {},
   "source": [
    "#### Top K Frequent Elements "
   ]
  },
  {
   "cell_type": "code",
   "execution_count": 6,
   "metadata": {},
   "outputs": [
    {
     "data": {
      "text/plain": [
       "[1]"
      ]
     },
     "execution_count": 6,
     "metadata": {},
     "output_type": "execute_result"
    }
   ],
   "source": [
    "## not the solution we want - to get all numbers greater than k\n",
    "def topKFrequent(nums, k):\n",
    "    nums_dict = {}\n",
    "    result = []\n",
    "    for i in nums:\n",
    "        if i in result:\n",
    "            continue\n",
    "        nums_dict[i] = 1 + nums_dict.get(i, 0)\n",
    "        if nums_dict.get(i, 0) >= k:\n",
    "            result.append(i)\n",
    "            \n",
    "    return result\n",
    "\n",
    "topKFrequent([1],1)"
   ]
  },
  {
   "cell_type": "code",
   "execution_count": 22,
   "metadata": {},
   "outputs": [
    {
     "data": {
      "text/plain": [
       "[1, 2]"
      ]
     },
     "execution_count": 22,
     "metadata": {},
     "output_type": "execute_result"
    }
   ],
   "source": [
    "def topKFrequent(nums, k):\n",
    "    dict_nums = {}\n",
    "    count = [[] for i in range(len(nums)+1)]\n",
    "    \n",
    "    for i in nums:\n",
    "        dict_nums[i] = 1 + dict_nums.get(i, 0)\n",
    "    for n,c in dict_nums.items():\n",
    "        count[c].append(n)\n",
    "    \n",
    "    result = []\n",
    "    \n",
    "    for i in range(len(count)-1, 0,-1):\n",
    "        for num in count[i]:\n",
    "            result.append(num)\n",
    "            if len(result) == k:\n",
    "                return result\n",
    "\n",
    "topKFrequent([1,1,1,2,2,3],2)"
   ]
  },
  {
   "attachments": {},
   "cell_type": "markdown",
   "metadata": {},
   "source": [
    "#### Product of Array Except Self"
   ]
  },
  {
   "cell_type": "code",
   "execution_count": 5,
   "metadata": {},
   "outputs": [
    {
     "name": "stdout",
     "output_type": "stream",
     "text": [
      "[1, 1, 2, 6]\n",
      "[24, 12, 8, 6]\n"
     ]
    }
   ],
   "source": [
    "class Solution:\n",
    "    def productExceptSelf(self, nums: List[int]) -> List[int]:\n",
    "        result = [1 for i in range(len(nums))]\n",
    "        \n",
    "        prefix = 1\n",
    "        for i in range(len(nums)):\n",
    "            result[i] = prefix\n",
    "            prefix *= nums[i]\n",
    "            \n",
    "        print(result)\n",
    "        postfix = 1\n",
    "        for i in  range(len(nums)-1,-1,-1):\n",
    "            result[i] *= postfix\n",
    "            postfix *= nums[i]\n",
    "        print(result)\n",
    "\n",
    "obj = Solution()\n",
    "obj.productExceptSelf([1,2,3,4])"
   ]
  },
  {
   "cell_type": "code",
   "execution_count": 42,
   "metadata": {},
   "outputs": [
    {
     "name": "stdout",
     "output_type": "stream",
     "text": [
      "[1, 1, 2, 6] 24\n"
     ]
    },
    {
     "data": {
      "text/plain": [
       "[24, 12, 8, 6]"
      ]
     },
     "execution_count": 42,
     "metadata": {},
     "output_type": "execute_result"
    }
   ],
   "source": [
    "## optim\n",
    "def productExceptSelf(nums):\n",
    "    res = [1] * (len(nums))\n",
    "    prefix = 1\n",
    "    for i in range(len(nums)):\n",
    "        res[i] = prefix\n",
    "        prefix *= nums[i]\n",
    "    print(res, prefix)\n",
    "    postfix = 1\n",
    "    for i in range(len(nums) - 1, -1, -1):\n",
    "        res[i] *= postfix\n",
    "        postfix *= nums[i] \n",
    "    return res\n",
    "\n",
    "productExceptSelf([1,2,3,4])"
   ]
  },
  {
   "attachments": {},
   "cell_type": "markdown",
   "metadata": {},
   "source": [
    "#### Remove Element"
   ]
  },
  {
   "cell_type": "code",
   "execution_count": 51,
   "metadata": {},
   "outputs": [
    {
     "name": "stdout",
     "output_type": "stream",
     "text": [
      "0 0\n"
     ]
    },
    {
     "data": {
      "text/plain": [
       "([1], 0)"
      ]
     },
     "execution_count": 51,
     "metadata": {},
     "output_type": "execute_result"
    }
   ],
   "source": [
    "def removeElement(nums, val):\n",
    "    i = 0\n",
    "    j = len(nums)-1\n",
    "    \n",
    "    while i <= j:\n",
    "        print(i,j)\n",
    "        if nums[i] != val:\n",
    "            i += 1\n",
    "            continue\n",
    "        if nums[j] == val:\n",
    "            j -= 1\n",
    "            continue\n",
    "        if nums[i] == val and nums[j] != val:\n",
    "           nums[i], nums[j] = nums[j], nums[i]\n",
    "           i += 1\n",
    "           j -= 1\n",
    "    \n",
    "    return nums,j+1\n",
    "\n",
    "removeElement([1],1)\n",
    "        "
   ]
  },
  {
   "attachments": {},
   "cell_type": "markdown",
   "metadata": {},
   "source": [
    " #### Intersection of Two Arrays II"
   ]
  },
  {
   "cell_type": "code",
   "execution_count": 17,
   "metadata": {},
   "outputs": [
    {
     "ename": "TypeError",
     "evalue": "can only concatenate list (not \"int\") to list",
     "output_type": "error",
     "traceback": [
      "\u001b[1;31m---------------------------------------------------------------------------\u001b[0m",
      "\u001b[1;31mTypeError\u001b[0m                                 Traceback (most recent call last)",
      "Cell \u001b[1;32mIn[17], line 13\u001b[0m\n\u001b[0;32m      9\u001b[0m         \u001b[39mreturn\u001b[39;00m [\u001b[39m0\u001b[39m] \n\u001b[0;32m     12\u001b[0m obj \u001b[39m=\u001b[39m Solution()\n\u001b[1;32m---> 13\u001b[0m obj\u001b[39m.\u001b[39;49mintersect([\u001b[39m1\u001b[39;49m,\u001b[39m2\u001b[39;49m,\u001b[39m2\u001b[39;49m,\u001b[39m1\u001b[39;49m],[\u001b[39m2\u001b[39;49m,\u001b[39m2\u001b[39;49m])\n",
      "Cell \u001b[1;32mIn[17], line 7\u001b[0m, in \u001b[0;36mSolution.intersect\u001b[1;34m(self, nums1, nums2)\u001b[0m\n\u001b[0;32m      5\u001b[0m     nums_dict[i] \u001b[39m=\u001b[39m nums_dict\u001b[39m.\u001b[39mget(i, \u001b[39m0\u001b[39m) \u001b[39m+\u001b[39m\u001b[39m1\u001b[39m      \n\u001b[0;32m      6\u001b[0m \u001b[39mfor\u001b[39;00m j \u001b[39min\u001b[39;00m nums2:\n\u001b[1;32m----> 7\u001b[0m     nums_dict[j] \u001b[39m=\u001b[39m [nums_dict\u001b[39m.\u001b[39mget(j,\u001b[39m0\u001b[39m), nums_dict\u001b[39m.\u001b[39;49mget(j, \u001b[39m0\u001b[39;49m) \u001b[39m+\u001b[39;49m\u001b[39m1\u001b[39;49m]\n\u001b[0;32m      8\u001b[0m \u001b[39mprint\u001b[39m(nums_dict)\n\u001b[0;32m      9\u001b[0m \u001b[39mreturn\u001b[39;00m [\u001b[39m0\u001b[39m]\n",
      "\u001b[1;31mTypeError\u001b[0m: can only concatenate list (not \"int\") to list"
     ]
    }
   ],
   "source": [
    "class Solution:\n",
    "    def intersect(self, nums1: List[int], nums2: List[int]) -> List[int]:\n",
    "        nums_dict = {}\n",
    "        for i in nums1:\n",
    "            nums_dict[i] = nums_dict.get(i, 0) +1      \n",
    "        for j in nums2:\n",
    "            nums_dict[j] = [nums_dict.get(j,0), nums_dict.get(j, 0) +1]\n",
    "        print(nums_dict)\n",
    "        return [0] \n",
    "    \n",
    "    \n",
    "obj = Solution()\n",
    "obj.intersect([1,2,2,1],[2,2])"
   ]
  },
  {
   "attachments": {},
   "cell_type": "markdown",
   "metadata": {},
   "source": [
    "#### Find Pivot Index"
   ]
  },
  {
   "cell_type": "code",
   "execution_count": 79,
   "metadata": {},
   "outputs": [
    {
     "name": "stdout",
     "output_type": "stream",
     "text": [
      "0 2\n",
      "1 1\n",
      "2 0\n"
     ]
    },
    {
     "data": {
      "text/plain": [
       "0"
      ]
     },
     "execution_count": 79,
     "metadata": {},
     "output_type": "execute_result"
    }
   ],
   "source": [
    "class Solution:\n",
    "    def pivotIndex(self, nums: List[int]) -> int:\n",
    "        sumLeft = [0 for i in range(len(nums))]\n",
    "        sumRight = [0 for i in range(len(nums))]\n",
    "        \n",
    "        sumL = 0\n",
    "        sumR = 0\n",
    "        n = len(nums)-1\n",
    "        for i in range(0, len(nums)):\n",
    "            sumLeft[i] = sumL\n",
    "            sumL += nums[i]\n",
    "            \n",
    "            print(i, n-i)\n",
    "            sumRight[n-i] = sumR\n",
    "            sumR += nums[n-i]\n",
    "        \n",
    "        for i in range(0, len(sumLeft)):\n",
    "            if (sumRight[i] == sumLeft[i]):\n",
    "                return i\n",
    "        return -1        \n",
    "        \n",
    "        \n",
    "obj = Solution()\n",
    "obj.pivotIndex([2,-1,1])"
   ]
  },
  {
   "cell_type": "code",
   "execution_count": null,
   "metadata": {},
   "outputs": [],
   "source": []
  }
 ],
 "metadata": {
  "kernelspec": {
   "display_name": "base",
   "language": "python",
   "name": "python3"
  },
  "language_info": {
   "codemirror_mode": {
    "name": "ipython",
    "version": 3
   },
   "file_extension": ".py",
   "mimetype": "text/x-python",
   "name": "python",
   "nbconvert_exporter": "python",
   "pygments_lexer": "ipython3",
   "version": "3.9.12"
  },
  "orig_nbformat": 4,
  "vscode": {
   "interpreter": {
    "hash": "49cb93f377a7abe7414b7b0f21fb3017538004a126cf690fb524202736b7fb92"
   }
  }
 },
 "nbformat": 4,
 "nbformat_minor": 2
}
