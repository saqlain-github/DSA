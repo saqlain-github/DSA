{
 "cells": [
  {
   "cell_type": "markdown",
   "metadata": {},
   "source": [
    "#### Valid Anagram"
   ]
  },
  {
   "cell_type": "code",
   "execution_count": null,
   "metadata": {},
   "outputs": [
    {
     "name": "stdout",
     "output_type": "stream",
     "text": [
      "[0, 0, 0, 0, 0, 0, 0, 0, 0, 0, 0, 0, 0, 0, 0, 0, 0, 0, 0, 0, 0, 0, 0, 0, 0, 0]\n"
     ]
    },
    {
     "data": {
      "text/plain": [
       "False"
      ]
     },
     "metadata": {},
     "output_type": "display_data"
    }
   ],
   "source": [
    "class Solution:\n",
    "    def isAnagram(self, s: str, t: str) -> bool:\n",
    "        if len(s) != len(t):\n",
    "            return False\n",
    "\n",
    "        arr = [0]*26\n",
    "        for i in range(len(s)):\n",
    "            arr[ord(s[i]) - 97] += 1\n",
    "            arr[ord(t[i]) - 97] -= 1\n",
    "        \n",
    "        for i in arr:\n",
    "            if i != 0:\n",
    "                return False\n",
    "            \n",
    "        return True\n",
    "            \n",
    "obj = Solution()\n",
    "obj.isAnagram(\"rat\",\"cat\")"
   ]
  },
  {
   "cell_type": "markdown",
   "metadata": {},
   "source": [
    "#### Word Pattern"
   ]
  },
  {
   "cell_type": "code",
   "execution_count": null,
   "metadata": {},
   "outputs": [
    {
     "data": {
      "text/plain": [
       "False"
      ]
     },
     "metadata": {},
     "output_type": "display_data"
    }
   ],
   "source": [
    "class Solution:\n",
    "    def wordPattern(self, pattern: str, s: str) -> bool:\n",
    "        s1 = s.split(\" \")\n",
    "        if len(s1) != len(pattern):\n",
    "            return False\n",
    "\n",
    "        freq= {}\n",
    "        for i in range(len(s1)):\n",
    "\n",
    "            if pattern[i] in freq.keys():\n",
    "                if s1[i] != freq[pattern[i]]:\n",
    "                    return False\n",
    "            else:\n",
    "                if s1[i] in freq.values():\n",
    "                    return False\n",
    "                freq[pattern[i]] = s1[i]\n",
    "            \n",
    "\n",
    "        return True\n",
    "    \n",
    "obj = Solution()\n",
    "obj.wordPattern(\"abcd\",\"dog cat cat fish\")"
   ]
  },
  {
   "cell_type": "markdown",
   "metadata": {},
   "source": [
    "#### Isomorphic Strings"
   ]
  },
  {
   "cell_type": "code",
   "execution_count": 2,
   "metadata": {},
   "outputs": [
    {
     "data": {
      "text/plain": [
       "False"
      ]
     },
     "execution_count": 2,
     "metadata": {},
     "output_type": "execute_result"
    }
   ],
   "source": [
    "class Solution:\n",
    "    def isIsomorphic(self, s: str, t: str) -> bool:\n",
    "        if len(s) != len(t):\n",
    "            return False\n",
    "        freq={}\n",
    "        for i in range(len(s)):\n",
    "            # if s[i] == t[i]:\n",
    "            #     continue \n",
    "            if s[i] in freq.keys():\n",
    "                if freq[s[i]] != t[i]:\n",
    "                    return False\n",
    "            else:\n",
    "                if t[i] in freq.values():\n",
    "                    return False\n",
    "                freq[s[i]] = t[i]\n",
    "        return True\n",
    "    \n",
    "obj = Solution()\n",
    "obj.isIsomorphic(\"badc\",\"baba\")"
   ]
  },
  {
   "cell_type": "markdown",
   "metadata": {},
   "source": [
    "####  First Unique Character in a String\n"
   ]
  },
  {
   "cell_type": "code",
   "execution_count": 10,
   "metadata": {},
   "outputs": [
    {
     "name": "stdout",
     "output_type": "stream",
     "text": [
      "{'a': 2, 'b': 2}\n"
     ]
    },
    {
     "data": {
      "text/plain": [
       "-1"
      ]
     },
     "execution_count": 10,
     "metadata": {},
     "output_type": "execute_result"
    }
   ],
   "source": [
    "class Solution:\n",
    "    def firstUniqChar(self, s: str) -> int:\n",
    "        \n",
    "        temp = {}\n",
    "        for i in s:\n",
    "            temp[i] = temp.get(i,0) + 1\n",
    "        print(temp)\n",
    "        \n",
    "        for i in range(len(s)):\n",
    "            if temp[s[i]] == 1:\n",
    "                return i\n",
    "            \n",
    "        return -1\n",
    "    \n",
    "    \n",
    "obj = Solution()\n",
    "obj.firstUniqChar(\"aabb\")"
   ]
  },
  {
   "cell_type": "markdown",
   "metadata": {},
   "source": []
  },
  {
   "cell_type": "code",
   "execution_count": 24,
   "metadata": {},
   "outputs": [
    {
     "data": {
      "text/plain": [
       "False"
      ]
     },
     "execution_count": 24,
     "metadata": {},
     "output_type": "execute_result"
    }
   ],
   "source": [
    "class Solution:\n",
    "    def canConstruct(self, ransomNote: str, magazine: str) -> bool:\n",
    "        temp = {}\n",
    "        \n",
    "        for i in magazine:\n",
    "            temp[i] = temp.get(i,0) + 1\n",
    "        \n",
    "        for i in ransomNote:\n",
    "            temp[i] = temp.get(i,0) - 1\n",
    "            if temp[i] < 0:\n",
    "                return False\n",
    "            \n",
    "        return True\n",
    "\n",
    "obj = Solution()\n",
    "obj.canConstruct(\"acab\", \"aaaabbbb\")"
   ]
  },
  {
   "cell_type": "markdown",
   "metadata": {},
   "source": [
    "#### Intersection of Two Arrays"
   ]
  },
  {
   "cell_type": "code",
   "execution_count": 4,
   "metadata": {},
   "outputs": [],
   "source": [
    "from typing import List\n",
    "class Solution:\n",
    "    def intersection(self, nums1: List[int], nums2: List[int]) -> List[int]:\n",
    "        freq_num1 = Counter(nums1)\n",
    "        freq_num2 = Counter(nums2)\n",
    "        result = []\n",
    "        \n",
    "        for i in range(max(len))\n",
    "\n",
    "obj = Solution()\n",
    "obj.intersection([1,2,2,1],[2,2])"
   ]
  },
  {
   "cell_type": "code",
   "execution_count": null,
   "metadata": {},
   "outputs": [],
   "source": []
  }
 ],
 "metadata": {
  "kernelspec": {
   "display_name": "base",
   "language": "python",
   "name": "python3"
  },
  "language_info": {
   "codemirror_mode": {
    "name": "ipython",
    "version": 3
   },
   "file_extension": ".py",
   "mimetype": "text/x-python",
   "name": "python",
   "nbconvert_exporter": "python",
   "pygments_lexer": "ipython3",
   "version": "3.9.12"
  },
  "orig_nbformat": 4
 },
 "nbformat": 4,
 "nbformat_minor": 2
}
