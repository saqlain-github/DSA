{
 "cells": [
  {
   "cell_type": "markdown",
   "metadata": {},
   "source": [
    "#### Find Pivot Index"
   ]
  },
  {
   "cell_type": "code",
   "execution_count": 13,
   "metadata": {},
   "outputs": [
    {
     "name": "stdout",
     "output_type": "stream",
     "text": [
      "[0, 1, 8, 11, 17, 22, 28]\n"
     ]
    },
    {
     "data": {
      "text/plain": [
       "3"
      ]
     },
     "execution_count": 13,
     "metadata": {},
     "output_type": "execute_result"
    }
   ],
   "source": [
    "from typing import List\n",
    "class Solution:\n",
    "    def pivotIndex(self, nums: List[int]) -> int:\n",
    "        sum_arr = [0]*(len(nums)+1)\n",
    "        counts = 0\n",
    "        for i in range(len(nums)):\n",
    "            sum_arr[i] = counts \n",
    "            counts += nums[i]\n",
    "        sum_arr[-1] = counts\n",
    "        print(sum_arr)\n",
    "        for i in range(1,len(sum_arr)):\n",
    "            if sum_arr[i-1] == (sum_arr[-1] - sum_arr[i]):\n",
    "                return i-1\n",
    "        return -1\n",
    "\n",
    "obj = Solution()\n",
    "obj.pivotIndex([1,7,3,6,5,6])"
   ]
  },
  {
   "cell_type": "code",
   "execution_count": 33,
   "metadata": {},
   "outputs": [
    {
     "name": "stdout",
     "output_type": "stream",
     "text": [
      "[0, -2, -2, 1, -4, -2, -3]\n"
     ]
    },
    {
     "data": {
      "text/plain": [
       "-3"
      ]
     },
     "execution_count": 33,
     "metadata": {},
     "output_type": "execute_result"
    }
   ],
   "source": [
    "class NumArray:\n",
    "\n",
    "    def __init__(self, nums: List[int]):\n",
    "        self.nums = nums\n",
    "        self.total = sum(nums)\n",
    "        self.sum_arr = self.get_sum(nums)\n",
    "\n",
    "    def get_sum(self, nums):\n",
    "        sum_arr = [0]*(len(nums)+1)\n",
    "        counts = 0\n",
    "        for i in range(len(nums)):\n",
    "            sum_arr[i] = counts\n",
    "            counts += nums[i]\n",
    "        sum_arr[-1] = counts\n",
    "        return sum_arr\n",
    "\n",
    "    def sumRange(self, left: int, right: int) -> int:\n",
    "        if left > right:\n",
    "            return -1\n",
    "        print(self.sum_arr)\n",
    "        return self.sum_arr[right+1] - self.sum_arr[left]\n",
    "\n",
    "\n",
    "\n",
    "\n",
    "# Your NumArray object will be instantiated and called as such:\n",
    "obj = NumArray([-2, 0, 3, -5, 2, -1])\n",
    "obj.sumRange(0, 5)"
   ]
  },
  {
   "cell_type": "code",
   "execution_count": 48,
   "metadata": {},
   "outputs": [
    {
     "data": {
      "text/plain": [
       "[24, 12, 8, 6]"
      ]
     },
     "execution_count": 48,
     "metadata": {},
     "output_type": "execute_result"
    }
   ],
   "source": [
    "class Solution:\n",
    "    def productExceptSelf(self, nums: List[int]) -> List[int]:\n",
    "        mult_arr = [0]*len(nums)\n",
    "\n",
    "        pre_count = 1\n",
    "        for i in range(len(nums)):\n",
    "            mult_arr[i] = pre_count\n",
    "            pre_count *= nums[i]\n",
    "        \n",
    "        post_count = 1\n",
    "        for i in range(len(nums)-1, -1, -1):\n",
    "            mult_arr[i] *= post_count\n",
    "            post_count *= nums[i]\n",
    "        \n",
    "        return mult_arr\n",
    "\n",
    "obj = Solution()\n",
    "obj.productExceptSelf([1,2,3,4])"
   ]
  },
  {
   "cell_type": "markdown",
   "metadata": {},
   "source": [
    "####  Range Sum Query 2D - Immutable"
   ]
  },
  {
   "cell_type": "code",
   "execution_count": 25,
   "metadata": {},
   "outputs": [
    {
     "name": "stdout",
     "output_type": "stream",
     "text": [
      "[[0, 0, 0, 0, 0, 0], [0, 3, 3, 4, 8, 10], [0, 8, 14, 18, 24, 27], [0, 9, 17, 21, 28, 36], [0, 13, 22, 26, 34, 49], [0, 14, 23, 30, 38, 58]]\n"
     ]
    },
    {
     "data": {
      "text/plain": [
       "58"
      ]
     },
     "execution_count": 25,
     "metadata": {},
     "output_type": "execute_result"
    }
   ],
   "source": [
    "from typing import List\n",
    "class NumMatrix:\n",
    "\n",
    "    def __init__(self, matrix: List[List[int]]):\n",
    "        self.matrix = matrix\n",
    "        self.pivotMatrix = self.getPivotMatrix(self.matrix)\n",
    "        \n",
    "    def getPivotMatrix(self, matrix: List[List[int]]) -> List[List[int]]:\n",
    "        \n",
    "        for i in range(len(matrix)):\n",
    "            matrix[i].insert(0, 0)\n",
    "            for j in range(1, len(matrix[i])):\n",
    "                matrix[i][j] += matrix[i][j-1]\n",
    "                \n",
    "        for j in range(len(matrix[0])):\n",
    "            for i in range(1, len(matrix)):\n",
    "                matrix[i][j] += matrix[i-1][j]\n",
    "        \n",
    "        matrix.insert(0, [0]*len(matrix[0]))\n",
    "        print(matrix)\n",
    "        return matrix\n",
    "\n",
    "    def sumRegion(self, row1: int, col1: int, row2: int, col2: int) -> int:\n",
    "        return self.matrix[row2+1][col2+1] - self.matrix[row2+1][col1] - self.matrix[row1][col2+1] + self.matrix[row1][col1]\n",
    "\n",
    "\n",
    "# Your NumMatrix object will be instantiated and called as such:\n",
    "obj = NumMatrix([[3, 0, 1, 4, 2], [5, 6, 3, 2, 1], [1, 2, 0, 1, 5], [4, 1, 0, 1, 7], [1, 0, 3, 0, 5]])\n",
    "obj.sumRegion(0,0,4,)"
   ]
  },
  {
   "cell_type": "code",
   "execution_count": 18,
   "metadata": {},
   "outputs": [
    {
     "data": {
      "text/plain": [
       "0"
      ]
     },
     "execution_count": 18,
     "metadata": {},
     "output_type": "execute_result"
    }
   ],
   "source": [
    "param_1"
   ]
  },
  {
   "cell_type": "code",
   "execution_count": null,
   "metadata": {},
   "outputs": [],
   "source": []
  }
 ],
 "metadata": {
  "kernelspec": {
   "display_name": "base",
   "language": "python",
   "name": "python3"
  },
  "language_info": {
   "codemirror_mode": {
    "name": "ipython",
    "version": 3
   },
   "file_extension": ".py",
   "mimetype": "text/x-python",
   "name": "python",
   "nbconvert_exporter": "python",
   "pygments_lexer": "ipython3",
   "version": "3.9.12"
  },
  "orig_nbformat": 4
 },
 "nbformat": 4,
 "nbformat_minor": 2
}
