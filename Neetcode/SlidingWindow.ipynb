{
 "cells": [
  {
   "cell_type": "code",
   "execution_count": 3,
   "metadata": {},
   "outputs": [],
   "source": [
    "from typing import List"
   ]
  },
  {
   "attachments": {},
   "cell_type": "markdown",
   "metadata": {},
   "source": [
    "#### Best Time to Buy and Sell Stock"
   ]
  },
  {
   "cell_type": "code",
   "execution_count": 57,
   "metadata": {},
   "outputs": [
    {
     "name": "stdout",
     "output_type": "stream",
     "text": [
      "0 0 0 0\n",
      "0 1 1 1\n",
      "0 2 2 2\n",
      "0 3 3 3\n",
      "0 4 4 4\n",
      "0 5 5 5\n",
      "0 6 6 6\n",
      "0 7 7 7\n"
     ]
    },
    {
     "data": {
      "text/plain": [
       "7"
      ]
     },
     "execution_count": 57,
     "metadata": {},
     "output_type": "execute_result"
    }
   ],
   "source": [
    "class Solution:\n",
    "    def maxProfit(self, prices: List[int]) -> int:\n",
    "        max_profit = 0\n",
    "        l = 0\n",
    "        \n",
    "        for r in range(len(prices)):\n",
    "            difference = prices[r] - prices[l]\n",
    "            while difference < 0 and l<r:\n",
    "                l += 1\n",
    "            if difference >= 0 and max_profit < difference:\n",
    "                max_profit = difference\n",
    "            print(l,r, difference, max_profit)\n",
    "            \n",
    "        return max_profit\n",
    "    \n",
    "    \n",
    "obj = Solution()\n",
    "obj.maxProfit([1,2,3,4,5,6,7,8])"
   ]
  },
  {
   "cell_type": "code",
   "execution_count": null,
   "metadata": {},
   "outputs": [],
   "source": [
    "diff = 7 -6"
   ]
  },
  {
   "cell_type": "markdown",
   "metadata": {},
   "source": [
    "#### Sliding Window Maximum"
   ]
  },
  {
   "cell_type": "code",
   "execution_count": null,
   "metadata": {},
   "outputs": [
    {
     "data": {
      "text/plain": [
       "[1]"
      ]
     },
     "metadata": {},
     "output_type": "display_data"
    }
   ],
   "source": [
    "class Solution:\n",
    "    def maxSlidingWindow(self, nums: List[int], k: int) -> List[int]:\n",
    "        result = [sum(nums[0:k])]\n",
    "        for i in range(1,len(nums)-2):\n",
    "            result.append(max(nums[i:i+k]))\n",
    "            \n",
    "        return result\n",
    "            \n",
    "            \n",
    "obj = Solution()\n",
    "obj.maxSlidingWindow([1],1)"
   ]
  },
  {
   "cell_type": "code",
   "execution_count": null,
   "metadata": {},
   "outputs": [
    {
     "data": {
      "text/plain": [
       "[1]"
      ]
     },
     "metadata": {},
     "output_type": "display_data"
    }
   ],
   "source": [
    "class Solution:\n",
    "    def maxSlidingWindow(self, nums: List[int], k: int) -> List[int]:\n",
    "        result = []\n",
    "        q = collections.deque()\n",
    "        \n",
    "        for i in range(k):\n",
    "            while q and nums[i] > nums[q[-1]]:\n",
    "                q.pop()\n",
    "            q.append(i)\n",
    "        result.append(nums[q[0]])\n",
    "            \n",
    "        for i in range(k, len(nums)):\n",
    "            print(q)\n",
    "            while q and q[0] <= i-k:\n",
    "                q.popleft()\n",
    "                \n",
    "            while q and nums[i] >= nums[q[-1]]:\n",
    "                q.pop()\n",
    "            q.append(i)\n",
    "            \n",
    "            result.append(nums[q[0]])\n",
    "        return result\n",
    "            \n",
    "obj = Solution()\n",
    "obj.maxSlidingWindow([1],1)"
   ]
  },
  {
   "attachments": {},
   "cell_type": "markdown",
   "metadata": {},
   "source": [
    "#### Max Sum Subarray of size "
   ]
  },
  {
   "cell_type": "code",
   "execution_count": 19,
   "metadata": {},
   "outputs": [
    {
     "data": {
      "text/plain": [
       "1000"
      ]
     },
     "execution_count": 19,
     "metadata": {},
     "output_type": "execute_result"
    }
   ],
   "source": [
    "class Solution:\n",
    "    def maximumSumSubarray (self,K,Arr,N):\n",
    "        # code here \n",
    "        current_sum = 0\n",
    "        for i in range(K):\n",
    "            current_sum += Arr[i]\n",
    "        max_sum = current_sum \n",
    "\n",
    "        for i in range(K, N):\n",
    "            current_sum += Arr[i] - Arr[i-K]\n",
    "            max_sum = max(current_sum, max_sum)\n",
    "            \n",
    "        return max_sum\n",
    "    \n",
    "    \n",
    "obj = Solution()\n",
    "obj.maximumSumSubarray(4, [100, 200, 300, 400], 4)"
   ]
  },
  {
   "attachments": {},
   "cell_type": "markdown",
   "metadata": {},
   "source": [
    "#### Maximum Average Subarray I"
   ]
  },
  {
   "cell_type": "code",
   "execution_count": 27,
   "metadata": {},
   "outputs": [
    {
     "data": {
      "text/plain": [
       "1275000.0"
      ]
     },
     "execution_count": 27,
     "metadata": {},
     "output_type": "execute_result"
    }
   ],
   "source": [
    "class Solution:\n",
    "    def findMaxAverage(self, nums: List[int], k: int) -> float:\n",
    "        current_sum = 0\n",
    "        n = len(nums)\n",
    "        \n",
    "        for i in range(k):\n",
    "            current_sum += nums[i]\n",
    "            \n",
    "        max_avg = current_sum / k \n",
    "\n",
    "        for i in range(k, n):\n",
    "            current_sum += nums[i] - nums[i-k]\n",
    "            max_avg = max(current_sum/k, max_avg)\n",
    "            \n",
    "        return max_avg\n",
    "    \n",
    "    \n",
    "obj = Solution()\n",
    "obj.findMaxAverage([1,12,-5,-6,50,3], 4)"
   ]
  },
  {
   "attachments": {},
   "cell_type": "markdown",
   "metadata": {},
   "source": [
    "#### Longest Substring Without Repeating Characters"
   ]
  },
  {
   "cell_type": "code",
   "execution_count": 3,
   "metadata": {},
   "outputs": [
    {
     "name": "stdout",
     "output_type": "stream",
     "text": [
      "0 0 0 set()\n",
      "0 1 1 {'p'}\n",
      "0 2 2 {'p', 'w'}\n",
      "2 3 2 {'w'}\n",
      "2 4 2 {'k', 'w'}\n",
      "2 5 3 {'k', 'e', 'w'}\n"
     ]
    },
    {
     "data": {
      "text/plain": [
       "3"
      ]
     },
     "execution_count": 3,
     "metadata": {},
     "output_type": "execute_result"
    }
   ],
   "source": [
    "class Solution:\n",
    "    def lengthOfLongestSubstring(self, s: str) -> int:\n",
    "        i = 0\n",
    "        j = 0\n",
    "        sets = set()\n",
    "        max_length = 0\n",
    "        \n",
    "        while j < len(s):\n",
    "            print(i, j, max_length,sets)\n",
    "            if s[j] in sets:\n",
    "                while s[j] in sets and i<=j:\n",
    "                    sets.remove(s[i])\n",
    "                    i = i+1\n",
    "            sets.add(s[j])\n",
    "            max_length = max(max_length, j-i+1)\n",
    "            j += 1\n",
    "        return max_length\n",
    "    \n",
    "obj = Solution()\n",
    "obj.lengthOfLongestSubstring(\"pwwkew\")\n",
    "            "
   ]
  },
  {
   "cell_type": "code",
   "execution_count": null,
   "metadata": {},
   "outputs": [],
   "source": [
    "class Solution:\n",
    "    def lengthOfLongestSubstring(self, s: str) -> int:\n",
    "        charSet = set()\n",
    "        l = 0\n",
    "        res = 0\n",
    "\n",
    "        for r in range(len(s)):\n",
    "            while s[r] in charSet:\n",
    "                charSet.remove(s[l])\n",
    "                l += 1\n",
    "            charSet.add(s[r])\n",
    "            res = max(res, r - l + 1)\n",
    "        return res"
   ]
  },
  {
   "attachments": {},
   "cell_type": "markdown",
   "metadata": {},
   "source": [
    "#### Minimum Size Subarray Sum"
   ]
  },
  {
   "cell_type": "code",
   "execution_count": 44,
   "metadata": {},
   "outputs": [
    {
     "name": "stdout",
     "output_type": "stream",
     "text": [
      "0 0 1 1000000 1\n",
      "0 1 3 1000000 2\n",
      "0 2 6 1000000 3\n",
      "0 3 10 1000000 4\n",
      "3 4 9 3 2\n"
     ]
    },
    {
     "data": {
      "text/plain": [
       "3"
      ]
     },
     "execution_count": 44,
     "metadata": {},
     "output_type": "execute_result"
    }
   ],
   "source": [
    "# greater than target\n",
    "class Solution:\n",
    "    def minSubArrayLen(self, target: int, nums: List[int]) -> int:\n",
    "        total = 0\n",
    "        min_length = 1000000\n",
    "        i = 0\n",
    "        \n",
    "        for j in range(len(nums)):\n",
    "            total += nums[j]\n",
    "            while total >= target and i <= j:\n",
    "                if (j-i+1 < min_length):\n",
    "                    min_length = j-i+1\n",
    "                total -= nums[i]\n",
    "                i += 1\n",
    "            print(i,j,total, min_length, j-i+1)\n",
    "            \n",
    "        if min_length == 1000000:\n",
    "            return 0\n",
    "        else:\n",
    "            return min_length\n",
    "    \n",
    "    \n",
    "obj = Solution()\n",
    "obj.minSubArrayLen(11,[1,2,3,4,5])"
   ]
  },
  {
   "cell_type": "code",
   "execution_count": 43,
   "metadata": {},
   "outputs": [
    {
     "name": "stdout",
     "output_type": "stream",
     "text": [
      "0 0 1 1000000 1\n",
      "0 1 3 1000000 2\n",
      "0 2 6 1000000 3\n",
      "0 3 10 1000000 4\n",
      "3 4 9 1000000 2\n"
     ]
    },
    {
     "data": {
      "text/plain": [
       "0"
      ]
     },
     "execution_count": 43,
     "metadata": {},
     "output_type": "execute_result"
    }
   ],
   "source": [
    "## for exact target \n",
    "class Solution:\n",
    "    def minSubArrayLen(self, target: int, nums: List[int]) -> int:\n",
    "        total = 0\n",
    "        min_length = 1000000\n",
    "        i = 0\n",
    "        \n",
    "        for j in range(len(nums)):\n",
    "            total += nums[j]\n",
    "            while total >= target and i <= j:\n",
    "                if total == target and (j-i+1 < min_length):\n",
    "                    min_length = j-i+1\n",
    "                total -= nums[i]\n",
    "                i += 1\n",
    "            print(i,j,total, min_length, j-i+1)\n",
    "            \n",
    "        if min_length == 1000000:\n",
    "            return 0\n",
    "        else:\n",
    "            return min_length\n",
    "    \n",
    "    \n",
    "obj = Solution()\n",
    "obj.minSubArrayLen(11,[1,2,3,4,5])"
   ]
  },
  {
   "cell_type": "code",
   "execution_count": null,
   "metadata": {},
   "outputs": [],
   "source": []
  }
 ],
 "metadata": {
  "kernelspec": {
   "display_name": "base",
   "language": "python",
   "name": "python3"
  },
  "language_info": {
   "codemirror_mode": {
    "name": "ipython",
    "version": 3
   },
   "file_extension": ".py",
   "mimetype": "text/x-python",
   "name": "python",
   "nbconvert_exporter": "python",
   "pygments_lexer": "ipython3",
   "version": "3.9.12"
  },
  "orig_nbformat": 4,
  "vscode": {
   "interpreter": {
    "hash": "49cb93f377a7abe7414b7b0f21fb3017538004a126cf690fb524202736b7fb92"
   }
  }
 },
 "nbformat": 4,
 "nbformat_minor": 2
}
