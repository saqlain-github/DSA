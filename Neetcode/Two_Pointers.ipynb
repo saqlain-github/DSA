{
 "cells": [
  {
   "cell_type": "code",
   "execution_count": 1,
   "metadata": {},
   "outputs": [],
   "source": [
    "from typing import List"
   ]
  },
  {
   "attachments": {},
   "cell_type": "markdown",
   "metadata": {},
   "source": [
    "#### Valid Palindrome"
   ]
  },
  {
   "cell_type": "code",
   "execution_count": 10,
   "metadata": {},
   "outputs": [
    {
     "data": {
      "text/plain": [
       "True"
      ]
     },
     "execution_count": 10,
     "metadata": {},
     "output_type": "execute_result"
    }
   ],
   "source": [
    "def alphanum(c):\n",
    "        return (\n",
    "            ord(\"A\") <= ord(c) <= ord(\"Z\")\n",
    "            or ord(\"a\") <= ord(c) <= ord(\"z\")\n",
    "            or ord(\"0\") <= ord(c) <= ord(\"9\")\n",
    "        )\n",
    "\n",
    "def isPalindrome(s: str):\n",
    "        \n",
    "    i = 0\n",
    "    j = len(s)-1\n",
    "    s = s.lower()\n",
    "    \n",
    "    while(i<=j):\n",
    "        if not alphanum(s[i]):\n",
    "            i += 1\n",
    "        elif not alphanum(s[j]):\n",
    "            j -= 1\n",
    "        else:\n",
    "            if s[i] != s[j]:\n",
    "                return False\n",
    "            i += 1\n",
    "            j -= 1\n",
    "            \n",
    "    return True\n",
    "\n",
    "isPalindrome(\" saqlain nia l q a s\")"
   ]
  },
  {
   "attachments": {},
   "cell_type": "markdown",
   "metadata": {},
   "source": [
    "#### validPalindrome 2"
   ]
  },
  {
   "cell_type": "code",
   "execution_count": 34,
   "metadata": {},
   "outputs": [
    {
     "name": "stdout",
     "output_type": "stream",
     "text": [
      "0 20\n",
      "1 19\n",
      "2 18\n",
      "3 17\n",
      "4 16\n",
      "5 15\n",
      "5 14\n",
      "6 13\n",
      "7 12\n"
     ]
    },
    {
     "data": {
      "text/plain": [
       "False"
      ]
     },
     "execution_count": 34,
     "metadata": {},
     "output_type": "execute_result"
    }
   ],
   "source": [
    "def validPalindrome(s: str) -> bool: \n",
    "    i = 0\n",
    "    j = len(s)-1\n",
    "    flag = 0\n",
    "    \n",
    "    while(i<=j):\n",
    "        print(i,j)\n",
    "        if s[i] != s[j] and flag == 0:\n",
    "            if s[i] == s[j-1]:\n",
    "                j -= 1\n",
    "                flag = 1\n",
    "            elif s[j] == s[i+1]:\n",
    "                i += 1 \n",
    "                flag = 1\n",
    "            else:\n",
    "                return False\n",
    "        elif s[i] != s[j] and flag == 1:\n",
    "            return False\n",
    "        else:\n",
    "            i += 1\n",
    "            j -= 1\n",
    "            \n",
    "    return True\n",
    "\n",
    "validPalindrome(\"ebcbbececabbacecbbcbe\") # fails at one point \n"
   ]
  },
  {
   "cell_type": "code",
   "execution_count": 39,
   "metadata": {},
   "outputs": [
    {
     "data": {
      "text/plain": [
       "True"
      ]
     },
     "execution_count": 39,
     "metadata": {},
     "output_type": "execute_result"
    }
   ],
   "source": [
    "## recurssive solution\n",
    "\n",
    "class Solution:\n",
    "    def validPalindrome(self, s: str) -> bool: \n",
    "        i = 0\n",
    "        j = len(s)-1\n",
    "        \n",
    "        while i < j:\n",
    "            if s[i] == s[j]:\n",
    "                i += 1\n",
    "                j -= 1 \n",
    "            else:\n",
    "                return self.validPalindrome_Checker(s,i+1,j) or self.validPalindrome_Checker(s,i,j-1)\n",
    "        return True\n",
    "\n",
    "    def validPalindrome_Checker(self,s, i, j):\n",
    "        while i < j:\n",
    "            if s[i] == s[j]:\n",
    "                i += 1\n",
    "                j -= 1\n",
    "            else:\n",
    "                return False\n",
    "        return True\n",
    "\n",
    "               \n"
   ]
  },
  {
   "attachments": {},
   "cell_type": "markdown",
   "metadata": {},
   "source": [
    "#### Reverse a string(inplace)"
   ]
  },
  {
   "cell_type": "code",
   "execution_count": 42,
   "metadata": {},
   "outputs": [
    {
     "data": {
      "text/plain": [
       "['o', 'l', 'l', 'e', 'h']"
      ]
     },
     "execution_count": 42,
     "metadata": {},
     "output_type": "execute_result"
    }
   ],
   "source": [
    "class Solution:\n",
    "    def reverseString(self, s: List[str]) -> None:\n",
    "        \"\"\"\n",
    "        Do not return anything, modify s in-place instead.\n",
    "        \"\"\"\n",
    "        i = 0\n",
    "        j = len(s)-1\n",
    "        \n",
    "        while i < j:\n",
    "            s[i], s[j] = s[j], s[i]\n",
    "            i += 1\n",
    "            j -= 1\n",
    "        return s\n",
    "    \n",
    "obj = Solution()\n",
    "obj.reverseString([\"h\",\"e\",\"l\",\"l\",\"o\"])        "
   ]
  },
  {
   "attachments": {},
   "cell_type": "markdown",
   "metadata": {},
   "source": [
    "####  Merge Sorted Array"
   ]
  },
  {
   "cell_type": "code",
   "execution_count": 50,
   "metadata": {},
   "outputs": [
    {
     "data": {
      "text/plain": [
       "[1]"
      ]
     },
     "execution_count": 50,
     "metadata": {},
     "output_type": "execute_result"
    }
   ],
   "source": [
    "class Solution:\n",
    "    def merge(self, nums1: List[int], m: int, nums2: List[int], n: int) -> None:\n",
    "        \"\"\"\n",
    "        Do not return anything, modify nums1 in-place instead.\n",
    "        \"\"\"\n",
    "        \n",
    "        while (m > 0) and (n > 0):\n",
    "            if nums1[m-1] > nums2[n-1]:\n",
    "                nums1[m+n-1] = nums1[m-1]\n",
    "                m -= 1\n",
    "            else:\n",
    "                nums1[m+n-1] = nums2[n-1]\n",
    "                n -= 1\n",
    "        if n > 0:\n",
    "            nums1[0:n] = nums2[:n]\n",
    "            \n",
    "        return nums1\n",
    "            \n",
    "obj = Solution()\n",
    "obj.merge([0],0,[1],1)"
   ]
  },
  {
   "cell_type": "code",
   "execution_count": 43,
   "metadata": {},
   "outputs": [
    {
     "ename": "IndexError",
     "evalue": "list assignment index out of range",
     "output_type": "error",
     "traceback": [
      "\u001b[1;31m---------------------------------------------------------------------------\u001b[0m",
      "\u001b[1;31mIndexError\u001b[0m                                Traceback (most recent call last)",
      "Cell \u001b[1;32mIn[43], line 3\u001b[0m\n\u001b[0;32m      1\u001b[0m l \u001b[39m=\u001b[39m [\u001b[39m1\u001b[39m,\u001b[39m2\u001b[39m,\u001b[39m3\u001b[39m,\u001b[39m4\u001b[39m]\n\u001b[1;32m----> 3\u001b[0m l[\u001b[39m10\u001b[39m] \u001b[39m=\u001b[39m \u001b[39m8\u001b[39m\n",
      "\u001b[1;31mIndexError\u001b[0m: list assignment index out of range"
     ]
    }
   ],
   "source": [
    "l = [1,2,3,4]\n",
    "\n",
    "l[10] = 8"
   ]
  },
  {
   "attachments": {},
   "cell_type": "markdown",
   "metadata": {},
   "source": [
    "#### Two Sum 11"
   ]
  },
  {
   "cell_type": "code",
   "execution_count": 7,
   "metadata": {},
   "outputs": [
    {
     "name": "stdout",
     "output_type": "stream",
     "text": [
      "2 15 0 3\n",
      "7 15 1 3\n"
     ]
    },
    {
     "data": {
      "text/plain": [
       "[1, 3]"
      ]
     },
     "execution_count": 7,
     "metadata": {},
     "output_type": "execute_result"
    }
   ],
   "source": [
    "class Solution:\n",
    "    def twoSum(self, numbers: List[int], target: int) -> List[int]:\n",
    "        i = 0\n",
    "        j = len(numbers)-1\n",
    "        \n",
    "        while(i < j):\n",
    "            print(numbers[i], numbers[j], i,j )\n",
    "            if numbers[i]+numbers[j] == target:\n",
    "                return [i+1,j+1]\n",
    "            if numbers[i]+numbers[j] > target:\n",
    "                j -= 1\n",
    "            if numbers[i]+numbers[j] < target:\n",
    "                i += 1\n",
    "                \n",
    "obj = Solution()\n",
    "obj.twoSum([2,7,11,15],22)"
   ]
  },
  {
   "attachments": {},
   "cell_type": "markdown",
   "metadata": {},
   "source": [
    "#### Two Sum with no duplicates"
   ]
  },
  {
   "cell_type": "code",
   "execution_count": 25,
   "metadata": {},
   "outputs": [
    {
     "name": "stdout",
     "output_type": "stream",
     "text": [
      "[-4, -4, -2, -1, -1, 0, 1, 2, 2, 2, 3, 3, 3, 4]\n",
      "-4 4 0 13\n",
      "-2 3 2 10\n",
      "-2 2 2 7\n",
      "-1 1 3 6\n",
      "0 0 5 5\n"
     ]
    },
    {
     "data": {
      "text/plain": [
       "[[-4, 4], [-2, 2], [-1, 1]]"
      ]
     },
     "execution_count": 25,
     "metadata": {},
     "output_type": "execute_result"
    }
   ],
   "source": [
    "class Solution:\n",
    "    def twoSum(self, numbers: List[int], target: int) -> List[int]:\n",
    "        numbers.sort()\n",
    "        i = 0\n",
    "        j = len(numbers)-1\n",
    "        result = []\n",
    "        print(numbers)\n",
    "        print(numbers[i], numbers[j], i,j )\n",
    "        while(i < j):\n",
    "            if numbers[i]+numbers[j] > target:\n",
    "                j -= 1\n",
    "            elif numbers[i]+numbers[j] < target:\n",
    "                i += 1\n",
    "            else:\n",
    "                result.append([numbers[i],numbers[j]])\n",
    "                i += 1\n",
    "                j -= 1\n",
    "            while numbers[i] == numbers[i-1]  and i<j:\n",
    "                i += 1\n",
    "            while numbers[j] == numbers[j-1]  and i<j:\n",
    "                j -= 1\n",
    "            print(numbers[i], numbers[j], i,j )\n",
    "        return result\n",
    "                \n",
    "obj = Solution()\n",
    "obj.twoSum([-1,0,1,2,-1,-4,2,2,3,3,3,-4,4,-2],0)"
   ]
  },
  {
   "attachments": {},
   "cell_type": "markdown",
   "metadata": {},
   "source": [
    "####  Move Zeroes"
   ]
  },
  {
   "cell_type": "code",
   "execution_count": 33,
   "metadata": {},
   "outputs": [
    {
     "name": "stdout",
     "output_type": "stream",
     "text": [
      "[1]\n"
     ]
    },
    {
     "data": {
      "text/plain": [
       "[1]"
      ]
     },
     "execution_count": 33,
     "metadata": {},
     "output_type": "execute_result"
    }
   ],
   "source": [
    "class Solution:\n",
    "    def moveZeroes(self, nums: List[int]) -> None:\n",
    "        \"\"\"\n",
    "        Do not return anything, modify nums in-place instead.\n",
    "        \"\"\"\n",
    "        i = 0\n",
    "        j = 0\n",
    "        \n",
    "        while j < len(nums) and i < len(nums):\n",
    "            if nums[i] != 0:\n",
    "                i += 1\n",
    "                j = i+1  \n",
    "                continue\n",
    "            if nums[j] == 0:\n",
    "                j += 1\n",
    "                continue\n",
    "            if (nums[i] == 0) and (nums[j] != 0):\n",
    "                nums[i], nums[j] = nums[j], nums[i]\n",
    "                i += 1      \n",
    "        print(nums)\n",
    "        return nums\n",
    "    \n",
    "obj = Solution()\n",
    "obj.moveZeroes([1])\n",
    "    "
   ]
  },
  {
   "attachments": {},
   "cell_type": "markdown",
   "metadata": {},
   "source": [
    "#### 3Sum"
   ]
  },
  {
   "cell_type": "code",
   "execution_count": null,
   "metadata": {},
   "outputs": [],
   "source": [
    "class Solution:\n",
    "    def threeSum(self, nums: List[int]) -> List[List[int]]:\n",
    "        i = 0\n",
    "        j = i+1\n",
    "        k = j+1\n",
    "        n = len(nums)\n",
    "        result = set()\n",
    "        \n",
    "        for i in range(0, n-2):\n",
    "            for j in range(i+1, n-1):\n",
    "                for k in range(j+1, n):\n",
    "                   if nums[i] + nums[j]+ nums[k] == 0:\n",
    "                    result.add(\n",
    "                        tuple(\n",
    "                            sorted([nums[i], nums[j], nums[k]])\n",
    "                            )\n",
    "                        ) \n",
    "                    \n",
    "           \n",
    "        result_list= []\n",
    "        for i in result:\n",
    "            result_list.append(list(i))\n",
    "        return result_list"
   ]
  },
  {
   "cell_type": "code",
   "execution_count": 83,
   "metadata": {},
   "outputs": [
    {
     "name": "stdout",
     "output_type": "stream",
     "text": [
      "[-4, -1, -1, 0, 1, 2]\n",
      "[] -4\n",
      "[-1, 2] -1\n",
      "[-1, 2] -1\n",
      "[-1, 1] 0\n",
      "[-1, 0] 1\n",
      "[-1, -1] 2\n"
     ]
    },
    {
     "data": {
      "text/plain": [
       "{(-1, -1, 2), (-1, 0, 1)}"
      ]
     },
     "execution_count": 83,
     "metadata": {},
     "output_type": "execute_result"
    }
   ],
   "source": [
    "class Solution:\n",
    "    def twoSum(self,nums, target):\n",
    "        left = 0\n",
    "        right = len(nums)-1\n",
    "        result = []\n",
    "        while left < right:\n",
    "            temp = nums[left]+nums[right]\n",
    "            if  temp == target:\n",
    "                # result.append([nums[left], nums[right]])\n",
    "                return [nums[left], nums[right]]\n",
    "                left += 1\n",
    "                right -= 1\n",
    "            elif temp < target:\n",
    "                left += 1\n",
    "            elif temp > target:\n",
    "                right -= 1\n",
    "        return result\n",
    "              \n",
    "        \n",
    "    def threeSum(self, nums: List[int]) -> List[List[int]]:\n",
    "        nums = sorted(nums)\n",
    "        print(nums)\n",
    "        result = set()\n",
    "        for i in range(len(nums)):\n",
    "            twoSum_result = self.twoSum(nums[0:i]+nums[i+1: len(nums)], (-1)*nums[i])\n",
    "            print(twoSum_result, nums[i])\n",
    "            if  twoSum_result:\n",
    "                twoSum_result.insert(0,nums[i])\n",
    "                result.add(tuple(sorted(twoSum_result)))\n",
    "        return result\n",
    "         \n",
    "                \n",
    "\n",
    "\n",
    "obj = Solution()\n",
    "obj.threeSum([-1,0,1,2,-1,-4])"
   ]
  },
  {
   "cell_type": "code",
   "execution_count": 89,
   "metadata": {},
   "outputs": [
    {
     "name": "stdout",
     "output_type": "stream",
     "text": [
      "[0, 0, 0]\n"
     ]
    },
    {
     "data": {
      "text/plain": [
       "[[0, 0, 0]]"
      ]
     },
     "execution_count": 89,
     "metadata": {},
     "output_type": "execute_result"
    }
   ],
   "source": [
    "class Solution:\n",
    "    def threeSum(self, nums: List[int]) -> List[List[int]]:\n",
    "        res = []\n",
    "        nums.sort()\n",
    "\n",
    "        for i, a in enumerate(nums):\n",
    "            # Skip positive integers\n",
    "            if a > 0:\n",
    "                break\n",
    "\n",
    "            if i > 0 and a == nums[i - 1]:\n",
    "                continue\n",
    "\n",
    "            l, r = i + 1, len(nums) - 1\n",
    "            while l < r:\n",
    "                threeSum = a + nums[l] + nums[r]\n",
    "                if threeSum > 0:\n",
    "                    r -= 1\n",
    "                elif threeSum < 0:\n",
    "                    l += 1\n",
    "                else:\n",
    "                    res.append([a, nums[l], nums[r]])\n",
    "                    l += 1\n",
    "                    r -= 1\n",
    "                    while nums[l] == nums[l - 1] and l < r:\n",
    "                        l += 1\n",
    "        return res\n",
    "    \n",
    "    \n"
   ]
  },
  {
   "attachments": {},
   "cell_type": "markdown",
   "metadata": {},
   "source": [
    "#### 3sum Closest"
   ]
  },
  {
   "cell_type": "code",
   "execution_count": 48,
   "metadata": {},
   "outputs": [
    {
     "name": "stdout",
     "output_type": "stream",
     "text": [
      "[-1000, -5, -5, -5, -5, -5, -5, -1, -1, -1]\n",
      "1000000\n",
      "-1000 -5 -1 0 1 9\n",
      "-1000 -5 -1 0 2 9\n",
      "-1000 -5 -1 0 3 9\n",
      "-1000 -5 -1 0 4 9\n",
      "-1000 -5 -1 0 5 9\n",
      "-1000 -5 -1 0 6 9\n",
      "-1000 -1 -1 0 7 9\n",
      "-1000 -1 -1 0 8 9\n",
      "-1000 -1 -1 0 9 9\n",
      "-1002\n",
      "-5 -5 -1 1 2 9\n",
      "-5 -5 -1 1 2 8\n",
      "-5 -5 -1 1 2 7\n",
      "-5 -5 -5 1 2 6\n",
      "-5 -5 -5 1 3 6\n",
      "-5 -5 -5 1 4 6\n",
      "-5 -5 -5 1 5 6\n",
      "-5 -5 -5 1 6 6\n",
      "-15\n",
      "-1 -1 -1 7 8 9\n",
      "-1 -1 -1 7 8 8\n"
     ]
    },
    {
     "data": {
      "text/plain": [
       "([], -15)"
      ]
     },
     "execution_count": 48,
     "metadata": {},
     "output_type": "execute_result"
    }
   ],
   "source": [
    "class Solution:\n",
    "    def threeSumClosest(self, nums: List[int], target: int) -> int:\n",
    "        nums.sort()\n",
    "        result = []\n",
    "        \n",
    "        \n",
    "        print(nums)\n",
    "        \n",
    "        diff = 1000000\n",
    "        for i,n  in enumerate(nums):\n",
    "            \n",
    "            if nums[i] == nums[i-1] and i > 0:\n",
    "                continue\n",
    "            \n",
    "            l, r  = i+1, len(nums)-1\n",
    "            print(diff)\n",
    "            print(nums[i],nums[l], nums[r],i ,l, r )\n",
    "            while(l < r):\n",
    "                sum_three = nums[l]+nums[r]+n\n",
    "                if abs(sum_three-target) < abs(diff-target):\n",
    "                    diff = sum_three\n",
    "                if  sum_three > target:\n",
    "                    r -= 1\n",
    "                elif sum_three < target:\n",
    "                    l += 1\n",
    "                else:\n",
    "                    result.append([n, nums[l],nums[r]])\n",
    "                    l += 1\n",
    "                    r -= 1\n",
    "                # while nums[l] == nums[l-1]  and l<r:\n",
    "                #     l += 1\n",
    "                # while nums[r] == nums[r-1]  and l<r:\n",
    "                #     r -= 1\n",
    "                print(nums[i], nums[l], nums[r],i ,l, r )\n",
    "        return result, diff\n",
    "    \n",
    "obj = Solution()\n",
    "obj.threeSumClosest([-1000,-5,-5,-5,-5,-5,-5,-1,-1,-1],-14)"
   ]
  },
  {
   "attachments": {},
   "cell_type": "markdown",
   "metadata": {},
   "source": [
    "#### Rotate Array"
   ]
  },
  {
   "cell_type": "code",
   "execution_count": 163,
   "metadata": {},
   "outputs": [
    {
     "name": "stdout",
     "output_type": "stream",
     "text": [
      "4\n",
      "[1, 2, 3, 4, 5, 6, 7, 8, 9, 10, 11, 12, 13, 14]\n",
      "[1, 2, 3, 4, 5, 1, 7, 8, 9, 10, 11, 12, 13, 14]\n",
      "[1, 2, 3, 4, 5, 1, 7, 8, 9, 10, 6, 12, 13, 14]\n",
      "[1, 11, 3, 4, 5, 1, 7, 8, 9, 10, 6, 12, 13, 14]\n",
      "[1, 11, 3, 4, 5, 1, 2, 8, 9, 10, 6, 12, 13, 14]\n",
      "[1, 11, 3, 4, 5, 1, 2, 8, 9, 10, 6, 7, 13, 14]\n",
      "[1, 11, 12, 4, 5, 1, 2, 8, 9, 10, 6, 7, 13, 14]\n",
      "[1, 11, 12, 4, 5, 1, 2, 3, 9, 10, 6, 7, 13, 14]\n",
      "[1, 11, 12, 4, 5, 1, 2, 3, 9, 10, 6, 7, 8, 14]\n",
      "[1, 11, 12, 13, 5, 1, 2, 3, 9, 10, 6, 7, 8, 14]\n",
      "[1, 11, 12, 13, 5, 1, 2, 3, 4, 10, 6, 7, 8, 14]\n",
      "[1, 11, 12, 13, 5, 1, 2, 3, 4, 10, 6, 7, 8, 9]\n",
      "[1, 11, 12, 13, 14, 1, 2, 3, 4, 10, 6, 7, 8, 9]\n",
      "[1, 11, 12, 13, 14, 1, 2, 3, 4, 5, 6, 7, 8, 9]\n"
     ]
    },
    {
     "data": {
      "text/plain": [
       "[10, 11, 12, 13, 14, 1, 2, 3, 4, 5, 6, 7, 8, 9]"
      ]
     },
     "execution_count": 163,
     "metadata": {},
     "output_type": "execute_result"
    }
   ],
   "source": [
    "class Solution:\n",
    "    def rotation(self, nums, i, k):\n",
    "        j = i\n",
    "        j2 = (j+k)%(len(nums))\n",
    "        current = nums[j]\n",
    "        next = nums[j2]\n",
    "        \n",
    "        while True:\n",
    "            print(nums)\n",
    "            nums[j2] = current\n",
    "            current = next\n",
    "            j = j2\n",
    "            j2 = (j+k)%(len(nums))\n",
    "            next = nums[j2]\n",
    "            if i == j:\n",
    "                break\n",
    "           \n",
    "            \n",
    "\n",
    "        return nums\n",
    "    \n",
    "    \n",
    "    def rotate(self, nums: List[int], k: int) -> None:\n",
    "        \"\"\"\n",
    "        Do not return anything, modify nums in-place instead.\n",
    "        \"\"\"\n",
    "        if (k == 0) or (len(nums) <= 1) or (len(nums) == k):\n",
    "            return nums\n",
    "        x = len(nums) %  k\n",
    "        print(x)\n",
    "        # elif (x%2 == 0):\n",
    "        if (x == 0):\n",
    "            for i in range(0, k): # k and len multiply of each other\n",
    "                nums = self.rotation(nums,i,k)\n",
    "        elif (len(nums)%2 != 0) or (k%2 != 0): # one of them odd\n",
    "            nums = self.rotation(nums,0,k)\n",
    "        else:                                   # both even and not multiple\n",
    "            for i in range(0, x):\n",
    "                nums = self.rotation(nums,i,k)\n",
    "            # nums = self.rotation(nums, 1,k)\n",
    "        return nums\n",
    "        \n",
    "        \n",
    "obj = Solution()\n",
    "obj.rotate([i for i in range(1,25)],15)"
   ]
  },
  {
   "cell_type": "code",
   "execution_count": 171,
   "metadata": {},
   "outputs": [
    {
     "name": "stdout",
     "output_type": "stream",
     "text": [
      "3\n"
     ]
    },
    {
     "data": {
      "text/plain": [
       "[3, 4, 5, 1, 2]"
      ]
     },
     "execution_count": 171,
     "metadata": {},
     "output_type": "execute_result"
    }
   ],
   "source": [
    "class Solution:\n",
    "    def rotate(self, nums: List[int], k: int) -> None:\n",
    "        \"\"\"\n",
    "        Do not return anything, modify nums in-place instead.\n",
    "        \"\"\"\n",
    "        k =k%len(nums)\n",
    "        print(k)\n",
    "        l ,r = 0, len(nums)-1\n",
    "        while l < r:\n",
    "            nums[l], nums[r] = nums[r], nums[l]\n",
    "            l, r = l+1, r-1\n",
    "            \n",
    "        l,r = 0,k-1\n",
    "        while l < r:\n",
    "            nums[l], nums[r] = nums[r], nums[l]\n",
    "            l, r = l+1, r-1\n",
    "            \n",
    "        l,r = k,len(nums)-1\n",
    "        while l < r:\n",
    "            nums[l], nums[r] = nums[r], nums[l]\n",
    "            l, r = l+1, r-1\n",
    "        \n",
    "        return nums\n",
    "    \n",
    "    \n",
    "\n",
    "obj = Solution()\n",
    "obj.rotate([i for i in range(1,6)],3)     \n",
    "        "
   ]
  },
  {
   "attachments": {},
   "cell_type": "markdown",
   "metadata": {},
   "source": [
    "#### Reverse String 3"
   ]
  },
  {
   "cell_type": "code",
   "execution_count": 80,
   "metadata": {},
   "outputs": [
    {
     "name": "stdout",
     "output_type": "stream",
     "text": [
      "called\n",
      "called\n",
      "called\n",
      "called\n",
      "called\n"
     ]
    },
    {
     "data": {
      "text/plain": [
       "\"  s'teL ekat   teeL  edoC tsetnoc  \""
      ]
     },
     "execution_count": 80,
     "metadata": {},
     "output_type": "execute_result"
    }
   ],
   "source": [
    "class Solution:\n",
    "    def reverse(self, start, end, s):\n",
    "        print(\"called\")\n",
    "        while start < end:\n",
    "            s[start], s[end] = s[end], s[start]\n",
    "            start += 1\n",
    "            end -= 1\n",
    "        return s\n",
    "    \n",
    "    \n",
    "    \n",
    "    def reverseWords(self, s: str) -> str:\n",
    "        start = -1\n",
    "        s = list(s)\n",
    "        for i in range(len(s)):\n",
    "            if s[i] != \" \" and start < 0:\n",
    "                start = i\n",
    "        \n",
    "            elif s[i] == \" \" and start >= 0:\n",
    "                s = self.reverse(start, i-1, s)\n",
    "                start = -1\n",
    "                \n",
    "            elif i == len(s)-1 and start >= 0:\n",
    "                s = self.reverse(start, i, s)\n",
    "                start = -1\n",
    "                \n",
    "        return \"\".join(s)\n",
    "            \n",
    "            \n",
    "obj = Solution()\n",
    "obj.reverseWords(\"  Let's take   Leet  Code contest  \")"
   ]
  },
  {
   "attachments": {},
   "cell_type": "markdown",
   "metadata": {},
   "source": [
    "#### Contain Duplicates 2"
   ]
  },
  {
   "cell_type": "code",
   "execution_count": 12,
   "metadata": {},
   "outputs": [
    {
     "data": {
      "text/plain": [
       "False"
      ]
     },
     "execution_count": 12,
     "metadata": {},
     "output_type": "execute_result"
    }
   ],
   "source": [
    "class Solution:\n",
    "    def containsNearbyDuplicate(self, nums: List[int], k: int) -> bool:\n",
    "        nums_dict = {}\n",
    "        \n",
    "        for index, element in enumerate(nums):\n",
    "            if element in nums_dict.keys() and abs(nums_dict[element] - index) <=k :\n",
    "                return True\n",
    "            nums_dict[element] = index\n",
    "            \n",
    "        return False\n",
    "    \n",
    "obj = Solution()\n",
    "obj.containsNearbyDuplicate([1,2,3,1,2,3],2)          "
   ]
  },
  {
   "attachments": {},
   "cell_type": "markdown",
   "metadata": {},
   "source": [
    "#### Minimum Difference Between Highest and Lowest of K Scores"
   ]
  },
  {
   "cell_type": "code",
   "execution_count": null,
   "metadata": {},
   "outputs": [],
   "source": [
    "class Solution:\n",
    "    def minimumDifference(self, nums: List[int], k: int) -> int:\n",
    "        pass\n",
    "    \n",
    "obj = Solution()\n",
    "obj.minimumDifference([])"
   ]
  }
 ],
 "metadata": {
  "kernelspec": {
   "display_name": "base",
   "language": "python",
   "name": "python3"
  },
  "language_info": {
   "codemirror_mode": {
    "name": "ipython",
    "version": 3
   },
   "file_extension": ".py",
   "mimetype": "text/x-python",
   "name": "python",
   "nbconvert_exporter": "python",
   "pygments_lexer": "ipython3",
   "version": "3.9.12"
  },
  "orig_nbformat": 4,
  "vscode": {
   "interpreter": {
    "hash": "49cb93f377a7abe7414b7b0f21fb3017538004a126cf690fb524202736b7fb92"
   }
  }
 },
 "nbformat": 4,
 "nbformat_minor": 2
}
