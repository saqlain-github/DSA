{
 "cells": [
  {
   "cell_type": "code",
   "execution_count": 1,
   "metadata": {},
   "outputs": [],
   "source": [
    "import heapq\n",
    "from typing import List\n",
    "from queue import PriorityQueue\n",
    "import math\n",
    "from collections import Counter"
   ]
  },
  {
   "attachments": {},
   "cell_type": "markdown",
   "metadata": {},
   "source": [
    "#### kth largest element "
   ]
  },
  {
   "cell_type": "code",
   "execution_count": 3,
   "metadata": {},
   "outputs": [
    {
     "data": {
      "text/plain": [
       "4"
      ]
     },
     "execution_count": 3,
     "metadata": {},
     "output_type": "execute_result"
    }
   ],
   "source": [
    "class Solution:\n",
    "    def findKthLargest(self, nums: List[int], k: int) -> int:\n",
    "        pqueue = PriorityQueue()\n",
    "        for i in nums:\n",
    "            pqueue.put(i)\n",
    "            if pqueue.qsize() > k:\n",
    "                pqueue.get()\n",
    "        return pqueue.get()\n",
    "\n",
    "        \n",
    "        \n",
    "obj = Solution()\n",
    "obj.findKthLargest([3,2,3,1,2,4,5,5,6],4)"
   ]
  },
  {
   "cell_type": "code",
   "execution_count": 6,
   "metadata": {},
   "outputs": [
    {
     "data": {
      "text/plain": [
       "4"
      ]
     },
     "execution_count": 6,
     "metadata": {},
     "output_type": "execute_result"
    }
   ],
   "source": [
    "class Solution:\n",
    "    def findKthLargest(self, nums: List[int], k: int) -> int:\n",
    "        head_list = []\n",
    "        for i in nums:\n",
    "            heapq.heappush(head_list, i)\n",
    "            if len(head_list) > k:\n",
    "                heapq.heappop(head_list)\n",
    "        return heapq.heappop(head_list)\n",
    "\n",
    "        \n",
    "        \n",
    "obj = Solution()\n",
    "obj.findKthLargest([3,2,3,1,2,4,5,5,6],4)"
   ]
  },
  {
   "attachments": {},
   "cell_type": "markdown",
   "metadata": {},
   "source": [
    "#### LastStone Weight"
   ]
  },
  {
   "cell_type": "code",
   "execution_count": 22,
   "metadata": {},
   "outputs": [
    {
     "data": {
      "text/plain": [
       "1"
      ]
     },
     "execution_count": 22,
     "metadata": {},
     "output_type": "execute_result"
    }
   ],
   "source": [
    "class Solution:\n",
    "    def lastStoneWeight(self, stones: List[int]) -> int:\n",
    "        head_list = [-x for x in stones]\n",
    "        heapq.heapify(head_list)\n",
    "        while len(head_list) > 1:\n",
    "            # x = \n",
    "            # y = \n",
    "            res = (-1)*heapq.heappop(head_list) - (-1)*heapq.heappop(head_list)\n",
    "            if res:\n",
    "                heapq.heappush(head_list, -res)\n",
    "          \n",
    "        if len(head_list) == 1:\n",
    "            return -head_list[0]  \n",
    "        else:\n",
    "            return 0\n",
    "    \n",
    "obj = Solution()\n",
    "obj.lastStoneWeight([2,7,4,1,8,1])\n"
   ]
  },
  {
   "attachments": {},
   "cell_type": "markdown",
   "metadata": {},
   "source": [
    "#### pickGifts"
   ]
  },
  {
   "cell_type": "code",
   "execution_count": 36,
   "metadata": {},
   "outputs": [
    {
     "data": {
      "text/plain": [
       "4"
      ]
     },
     "execution_count": 36,
     "metadata": {},
     "output_type": "execute_result"
    }
   ],
   "source": [
    "class Solution:\n",
    "    def pickGifts(self, gifts: List[int], k: int) -> int:\n",
    "        gifts = [-x for x in gifts]\n",
    "        heapq.heapify(gifts)\n",
    "        for i in range(k):\n",
    "            res = math.floor(math.sqrt((-1)*heapq.heappop(gifts)))\n",
    "            heapq.heappush(gifts, -res)\n",
    "            \n",
    "        return -1*sum(gifts)\n",
    "        \n",
    "        \n",
    "obj = Solution()\n",
    "obj.pickGifts([1,1,1,1],4)"
   ]
  },
  {
   "attachments": {},
   "cell_type": "markdown",
   "metadata": {},
   "source": [
    "#### kth Largest Element in Stream"
   ]
  },
  {
   "cell_type": "code",
   "execution_count": 41,
   "metadata": {},
   "outputs": [
    {
     "name": "stdout",
     "output_type": "stream",
     "text": [
      "4\n",
      "5\n",
      "5\n",
      "8\n",
      "8\n"
     ]
    }
   ],
   "source": [
    "class KthLargest:\n",
    "\n",
    "    def __init__(self, k: int, nums: List[int]):\n",
    "        self.nums = nums\n",
    "        self.k = k\n",
    "        self.heap_list = []\n",
    "        for i in self.nums:\n",
    "            heapq.heappush(self.heap_list,i)\n",
    "            if len(self.heap_list) > k:\n",
    "                heapq.heappop(self.heap_list)\n",
    "        \n",
    "\n",
    "    def add(self, val: int) -> int:\n",
    "        heapq.heappush(self.heap_list,val)\n",
    "        if len(self.heap_list) > self.k:\n",
    "            heapq.heappop(self.heap_list)\n",
    "        kth_largest = heapq.heappop(self.heap_list)\n",
    "        heapq.heappush(self.heap_list,kth_largest)\n",
    "        return kth_largest\n",
    "\n",
    "\n",
    "# Your KthLargest object will be instantiated and called as such:\n",
    "obj = KthLargest(3, [4, 5, 8, 2])\n",
    "print(obj.add(3))\n",
    "print(obj.add(5))\n",
    "print(obj.add(10))\n",
    "print(obj.add(9))\n",
    "print(obj.add(4))"
   ]
  },
  {
   "attachments": {},
   "cell_type": "markdown",
   "metadata": {},
   "source": [
    "#### K Closest Points to Origin"
   ]
  },
  {
   "cell_type": "code",
   "execution_count": 49,
   "metadata": {},
   "outputs": [
    {
     "data": {
      "text/plain": [
       "[[3, 3]]"
      ]
     },
     "execution_count": 49,
     "metadata": {},
     "output_type": "execute_result"
    }
   ],
   "source": [
    "class Solution:\n",
    "    def kClosest(self, points: List[List[int]], k: int) -> List[List[int]]:\n",
    "        dist_list = []\n",
    "        for point in points:\n",
    "            dist = math.sqrt(point[0]**2 + point[1]**2)\n",
    "            dist_list.append([dist, point[0], point[1]])\n",
    "            \n",
    "        heapq.heapify(dist_list)\n",
    "        point_list = []\n",
    "        for i in range(k):\n",
    "            _, x, y = heapq.heappop(dist_list)\n",
    "            point_list.append([x, y])\n",
    "\n",
    "            \n",
    "        return point_list\n",
    "            \n",
    "            \n",
    "obj = Solution()\n",
    "obj.kClosest([[3,3],[5,-1],[-2,4]], 1)"
   ]
  },
  {
   "cell_type": "code",
   "execution_count": 52,
   "metadata": {},
   "outputs": [
    {
     "data": {
      "text/plain": [
       "[[3, 3]]"
      ]
     },
     "execution_count": 52,
     "metadata": {},
     "output_type": "execute_result"
    }
   ],
   "source": [
    "class Solution:\n",
    "    def kClosest(self, points: List[List[int]], k: int) -> List[List[int]]:\n",
    "        dist_list = []\n",
    "        for point in points:\n",
    "            dist = math.sqrt(point[0]**2 + point[1]**2)\n",
    "            heapq.heappush(dist_list,[-dist, point[0], point[1]])\n",
    "            if len(dist_list) > k:\n",
    "                heapq.heappop(dist_list)\n",
    "\n",
    "        return [[x,y] for _,x,y in dist_list]\n",
    "    \n",
    "\n",
    "obj = Solution()\n",
    "obj.kClosest([[3,3],[5,-1],[-2,4]], 1)"
   ]
  },
  {
   "attachments": {},
   "cell_type": "markdown",
   "metadata": {},
   "source": [
    "#### Most recent elements"
   ]
  },
  {
   "cell_type": "code",
   "execution_count": 49,
   "metadata": {},
   "outputs": [
    {
     "name": "stdout",
     "output_type": "stream",
     "text": [
      "Counter({1: 1})\n"
     ]
    },
    {
     "data": {
      "text/plain": [
       "[1]"
      ]
     },
     "execution_count": 49,
     "metadata": {},
     "output_type": "execute_result"
    }
   ],
   "source": [
    "class Solution:\n",
    "    def topKFrequent(self, nums: List[int], k: int) -> List[int]:\n",
    "        nums = Counter(nums)\n",
    "        print(nums)\n",
    "        nums_list = []\n",
    "        for key, value in nums.items():\n",
    "            nums_list.append([-value, key])\n",
    "         \n",
    "        result = []\n",
    "        heapq.heapify(nums_list)\n",
    "        for i in range(k):\n",
    "            result.append(heapq.heappop(nums_list)[1])\n",
    "        \n",
    "        return result\n",
    "obj = Solution()\n",
    "obj.topKFrequent([1],1)"
   ]
  },
  {
   "attachments": {},
   "cell_type": "markdown",
   "metadata": {},
   "source": [
    "#### 658. Find K Closest Elements"
   ]
  },
  {
   "cell_type": "code",
   "execution_count": 54,
   "metadata": {},
   "outputs": [
    {
     "data": {
      "text/plain": [
       "[1, 2, 3, 4]"
      ]
     },
     "execution_count": 54,
     "metadata": {},
     "output_type": "execute_result"
    }
   ],
   "source": [
    "class Solution:\n",
    "    def findClosestElements(self, arr: List[int], k: int, x: int) -> List[int]:\n",
    "        nums_list = []\n",
    "        for i in arr:\n",
    "            dist =  abs(x - i)\n",
    "            nums_list.append([dist, i])\n",
    "            \n",
    "        result = []\n",
    "        heapq.heapify(nums_list)\n",
    "        for i in range(k):\n",
    "            result.append(heapq.heappop(nums_list)[1])\n",
    "        \n",
    "        return sorted(result)\n",
    "    \n",
    "    \n",
    "obj = Solution()\n",
    "obj.findClosestElements([1,2,3,4,5], 4, 3)"
   ]
  },
  {
   "attachments": {},
   "cell_type": "markdown",
   "metadata": {},
   "source": [
    "####  Find the Kth Largest Integer in the Array"
   ]
  },
  {
   "cell_type": "code",
   "execution_count": 62,
   "metadata": {},
   "outputs": [
    {
     "name": "stdout",
     "output_type": "stream",
     "text": [
      "[2]\n",
      "[2, 21]\n",
      "[2, 21, 12]\n",
      "[2, 21, 12]\n"
     ]
    },
    {
     "data": {
      "text/plain": [
       "2"
      ]
     },
     "execution_count": 62,
     "metadata": {},
     "output_type": "execute_result"
    }
   ],
   "source": [
    "class Solution:\n",
    "    def kthLargestNumber(self, nums: List[str], k: int) -> str:\n",
    "        result = []\n",
    "        for i in nums:\n",
    "            heapq.heappush(result, int(i))\n",
    "            if len(result) > k:\n",
    "                heapq.heappop(result)\n",
    "            print(result)\n",
    "                \n",
    "        return heapq.heappop(result)\n",
    "    \n",
    "obj = Solution()\n",
    "obj.kthLargestNumber([\"2\",\"21\",\"12\",\"1\"], 3)"
   ]
  },
  {
   "attachments": {},
   "cell_type": "markdown",
   "metadata": {},
   "source": [
    "#### Seat Reservation Manager"
   ]
  },
  {
   "cell_type": "code",
   "execution_count": 66,
   "metadata": {},
   "outputs": [
    {
     "name": "stdout",
     "output_type": "stream",
     "text": [
      "1\n",
      "2\n",
      "None\n",
      "2\n",
      "3\n",
      "4\n",
      "5\n",
      "None\n"
     ]
    }
   ],
   "source": [
    "\n",
    "class SeatManager:\n",
    "    def __init__(self, n: int):\n",
    "        self.nums_list = [i+1 for i in range(n)]\n",
    "        \n",
    "\n",
    "    def reserve(self) -> int:\n",
    "        return heapq.heappop(self.nums_list)\n",
    "\n",
    "    def unreserve(self, seatNumber: int) -> None:\n",
    "        heapq.heappush(self.nums_list, seatNumber)\n",
    "        \n",
    "        \n",
    "obj = SeatManager(5)\n",
    "print(obj.reserve())\n",
    "print(obj.reserve())\n",
    "print(obj.unreserve(2))\n",
    "print(obj.reserve())\n",
    "print(obj.reserve())\n",
    "print(obj.reserve())\n",
    "print(obj.reserve())\n",
    "print(obj.unreserve(5))\n",
    "        \n"
   ]
  },
  {
   "attachments": {},
   "cell_type": "markdown",
   "metadata": {},
   "source": [
    "####  Maximum Performance of a Team"
   ]
  },
  {
   "cell_type": "code",
   "execution_count": 79,
   "metadata": {},
   "outputs": [
    {
     "name": "stdout",
     "output_type": "stream",
     "text": [
      "[[-40, 10, 4], [-35, 5, 7], [-16, 8, 2], [-9, 1, 9], [-10, 2, 5], [-9, 3, 3]]\n",
      "[[-35, 5, 7], [-10, 2, 5], [-16, 8, 2], [-9, 1, 9], [-9, 3, 3]] [-40, 10, 4]\n",
      "[[-16, 8, 2], [-10, 2, 5], [-9, 3, 3], [-9, 1, 9]] [-35, 5, 7]\n",
      "[[-10, 2, 5], [-9, 1, 9], [-9, 3, 3]] [-16, 8, 2]\n"
     ]
    },
    {
     "data": {
      "text/plain": [
       "46"
      ]
     },
     "execution_count": 79,
     "metadata": {},
     "output_type": "execute_result"
    }
   ],
   "source": [
    "class Solution:\n",
    "    def maxPerformance(self, n: int, speed: List[int], efficiency: List[int], k: int) -> int:\n",
    "        nums_list = []\n",
    "        for i  in range(n):\n",
    "            nums_list.append([(-1)*(speed[i]*efficiency[i]), speed[i], efficiency[i] ])\n",
    "           \n",
    "        summation  = 0 \n",
    "        minium = 10000000\n",
    "        heapq.heapify(nums_list)\n",
    "        print(nums_list)\n",
    "        for i in range(k):\n",
    "            temp = heapq.heappop(nums_list)\n",
    "            print(nums_list, temp)\n",
    "            summation += temp[1]\n",
    "            if minium > temp[2]:\n",
    "                minium = temp[2]\n",
    "                \n",
    "        return summation*minium\n",
    "        \n",
    "        \n",
    "    \n",
    "obj = Solution()\n",
    "obj.maxPerformance(6, [2,10,3,1,5,8], [5,4,3,9,7,2], 3)"
   ]
  },
  {
   "attachments": {},
   "cell_type": "markdown",
   "metadata": {},
   "source": [
    "####  Top K Frequent Words"
   ]
  },
  {
   "cell_type": "code",
   "execution_count": 11,
   "metadata": {},
   "outputs": [
    {
     "data": {
      "text/plain": [
       "['the', 'is', 'sunny', 'day']"
      ]
     },
     "execution_count": 11,
     "metadata": {},
     "output_type": "execute_result"
    }
   ],
   "source": [
    "class Solution:\n",
    "    def topKFrequent(self, words: List[str], k: int) -> List[str]:\n",
    "        words_counter = Counter(words)\n",
    "        words_Freq = []\n",
    "        for key, value in words_counter.items():\n",
    "            words_Freq.append([ -value, key])\n",
    "            \n",
    "        result = []\n",
    "        heapq.heapify(words_Freq)\n",
    "        for i  in range(k):\n",
    "            result.append(heapq.heappop(words_Freq)[1])\n",
    "            \n",
    "        return result\n",
    "            \n",
    "            \n",
    "obj = Solution()\n",
    "obj.topKFrequent([\"the\",\"day\",\"is\",\"sunny\",\"the\",\"the\",\"the\",\"sunny\",\"is\",\"is\"],4)            "
   ]
  },
  {
   "attachments": {},
   "cell_type": "markdown",
   "metadata": {},
   "source": [
    "####  Sort an Array"
   ]
  },
  {
   "cell_type": "code",
   "execution_count": 24,
   "metadata": {},
   "outputs": [
    {
     "data": {
      "text/plain": [
       "[1, 1, 2, 3, 4, 5]"
      ]
     },
     "execution_count": 24,
     "metadata": {},
     "output_type": "execute_result"
    }
   ],
   "source": [
    "class Solution:\n",
    "    def sortArray(self, nums: List[int]) -> List[int]:\n",
    "        result = []\n",
    "        heapq.heapify(nums)\n",
    "        for i in range(len(nums)):\n",
    "            result.append(heapq.heappop(nums))\n",
    "            \n",
    "        return result\n",
    "    \n",
    "    \n",
    "obj = Solution()\n",
    "obj.sortArray([5,4,3,2,1,1])"
   ]
  },
  {
   "cell_type": "markdown",
   "metadata": {},
   "source": []
  }
 ],
 "metadata": {
  "kernelspec": {
   "display_name": "base",
   "language": "python",
   "name": "python3"
  },
  "language_info": {
   "codemirror_mode": {
    "name": "ipython",
    "version": 3
   },
   "file_extension": ".py",
   "mimetype": "text/x-python",
   "name": "python",
   "nbconvert_exporter": "python",
   "pygments_lexer": "ipython3",
   "version": "3.9.12"
  },
  "orig_nbformat": 4,
  "vscode": {
   "interpreter": {
    "hash": "49cb93f377a7abe7414b7b0f21fb3017538004a126cf690fb524202736b7fb92"
   }
  }
 },
 "nbformat": 4,
 "nbformat_minor": 2
}
