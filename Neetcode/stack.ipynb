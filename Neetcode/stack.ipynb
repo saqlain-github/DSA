{
 "cells": [
  {
   "cell_type": "code",
   "execution_count": 1,
   "metadata": {},
   "outputs": [],
   "source": [
    "from typing import List"
   ]
  },
  {
   "attachments": {},
   "cell_type": "markdown",
   "metadata": {},
   "source": [
    "#### Baseball"
   ]
  },
  {
   "cell_type": "code",
   "execution_count": 41,
   "metadata": {},
   "outputs": [
    {
     "name": "stdout",
     "output_type": "stream",
     "text": [
      "[] 1\n",
      "[1] C\n"
     ]
    },
    {
     "data": {
      "text/plain": [
       "([], 0)"
      ]
     },
     "execution_count": 41,
     "metadata": {},
     "output_type": "execute_result"
    }
   ],
   "source": [
    "class Solution:\n",
    "    def stackoperations(self, stack, num):\n",
    "        return stack.append(int(num))\n",
    "    \n",
    "    def calPoints(self, operations: List[str]) -> int:\n",
    "        stack = []\n",
    "        \n",
    "        plus = lambda: stack.append((stack[len(stack)-1])+(stack[len(stack)-2]))\n",
    "        doubling = lambda: stack.append(2 * stack[len(stack)-1])\n",
    "        invalid = lambda: stack.pop()\n",
    "\n",
    "        for i in operations:\n",
    "            print(stack, i)\n",
    "            \n",
    "            if i == \"+\":\n",
    "                plus()\n",
    "            elif i == \"D\":\n",
    "                doubling()\n",
    "            elif i == \"C\":\n",
    "                invalid()\n",
    "            else:\n",
    "                self.stackoperations(stack, i)\n",
    "                \n",
    "        s = sum(stack) #implememt using stack\n",
    "                \n",
    "        return stack, s\n",
    "    \n",
    "s = Solution()\n",
    "s.calPoints([\"1\",\"C\"])"
   ]
  },
  {
   "cell_type": "code",
   "execution_count": 38,
   "metadata": {},
   "outputs": [
    {
     "data": {
      "text/plain": [
       "True"
      ]
     },
     "execution_count": 38,
     "metadata": {},
     "output_type": "execute_result"
    }
   ],
   "source": [
    "\"d\".isalpha()"
   ]
  },
  {
   "attachments": {},
   "cell_type": "markdown",
   "metadata": {},
   "source": [
    "#### Basic Stack"
   ]
  },
  {
   "cell_type": "code",
   "execution_count": 13,
   "metadata": {},
   "outputs": [
    {
     "name": "stdout",
     "output_type": "stream",
     "text": [
      "2\n",
      "deque([1, 3, 2])\n",
      "2\n",
      "3\n",
      "1\n",
      "deque([])\n",
      "-1\n",
      "-1\n"
     ]
    }
   ],
   "source": [
    "from collections import deque\n",
    "class Stack:\n",
    "    def __init__(self):\n",
    "        self.stack = deque()\n",
    "        self.stack_lenght = -1\n",
    "        \n",
    "    def push(self, value):\n",
    "        self.stack.append(value)\n",
    "        self.stack_lenght += 1\n",
    "        \n",
    "    def pop(self):\n",
    "        if self.stack_lenght >= 0:\n",
    "            self.stack_lenght -= 1\n",
    "            return self.stack.pop()\n",
    "        else:\n",
    "            return -1\n",
    "\n",
    "    def __str__(self):\n",
    "        return str(self.stack)\n",
    "    \n",
    "    def top(self):\n",
    "        return self.stack_lenght\n",
    "    \n",
    "\n",
    "obj = Stack()\n",
    "obj.push(1)\n",
    "obj.push(3)\n",
    "obj.push(2)\n",
    "print(obj.top())\n",
    "print(obj)\n",
    "print(obj.pop())\n",
    "print(obj.pop())\n",
    "print(obj.pop())\n",
    "print(obj)\n",
    "print(obj.pop())\n",
    "print(obj.top())\n",
    "        "
   ]
  },
  {
   "attachments": {},
   "cell_type": "markdown",
   "metadata": {},
   "source": [
    "#### Implementation of Stack using Queue"
   ]
  },
  {
   "cell_type": "code",
   "execution_count": null,
   "metadata": {},
   "outputs": [],
   "source": []
  }
 ],
 "metadata": {
  "kernelspec": {
   "display_name": "base",
   "language": "python",
   "name": "python3"
  },
  "language_info": {
   "codemirror_mode": {
    "name": "ipython",
    "version": 3
   },
   "file_extension": ".py",
   "mimetype": "text/x-python",
   "name": "python",
   "nbconvert_exporter": "python",
   "pygments_lexer": "ipython3",
   "version": "3.9.12"
  },
  "orig_nbformat": 4,
  "vscode": {
   "interpreter": {
    "hash": "49cb93f377a7abe7414b7b0f21fb3017538004a126cf690fb524202736b7fb92"
   }
  }
 },
 "nbformat": 4,
 "nbformat_minor": 2
}
