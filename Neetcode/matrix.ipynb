{
 "cells": [
  {
   "cell_type": "code",
   "execution_count": 1,
   "metadata": {},
   "outputs": [],
   "source": [
    "from typing import List"
   ]
  },
  {
   "attachments": {},
   "cell_type": "markdown",
   "metadata": {},
   "source": [
    "#### Spiral Matrix"
   ]
  },
  {
   "cell_type": "code",
   "execution_count": 32,
   "metadata": {},
   "outputs": [
    {
     "name": "stdout",
     "output_type": "stream",
     "text": [
      "left > right\n",
      "0 1 2 0 0 [7]\n",
      "top > bottom\n",
      "1 1 2 -1 0 [7, 9, 6]\n"
     ]
    },
    {
     "data": {
      "text/plain": [
       "[7, 9, 6]"
      ]
     },
     "execution_count": 32,
     "metadata": {},
     "output_type": "execute_result"
    }
   ],
   "source": [
    "class Solution:\n",
    "    \n",
    "    def spiralOrder(self, matrix: List[List[int]]) -> List[int]:\n",
    "        top = 0\n",
    "        bottom = len(matrix)-1\n",
    "        \n",
    "        left = 0\n",
    "        right = len(matrix[0])-1\n",
    "        \n",
    "        dir = 0\n",
    "        \n",
    "        result = []\n",
    "        while top <= bottom and left <= right:\n",
    "            dir = dir%4\n",
    "            \n",
    "            if dir == 0: #top > right\n",
    "                for i in range(left, right+1):\n",
    "                    result.append(matrix[top][i])\n",
    "                print(\"left > right\")\n",
    "                top += 1\n",
    "                \n",
    "            elif dir == 1: #right > bottom\n",
    "                for i in range(top, bottom+1):\n",
    "                    result.append(matrix[i][right])\n",
    "                print(\"top > bottom\")\n",
    "                right -= 1\n",
    "                \n",
    "            elif dir == 2: #bottom > left\n",
    "                for i in range(right, left-1, -1):\n",
    "                    print(i)\n",
    "                    result.append(matrix[bottom][i])\n",
    "                bottom -= 1 \n",
    "                print(\"right > left\")  \n",
    "                \n",
    "            else: #left > top\n",
    "                for i  in range(bottom, top-1, -1):\n",
    "                    result.append(matrix[i][left])\n",
    "                left += 1\n",
    "                print(\"bottom > top\")\n",
    "            \n",
    "            print(dir, top, bottom, right, left, result)\n",
    "            dir += 1\n",
    "            \n",
    "        return result\n",
    "            \n",
    "    \n",
    "obj = Solution()\n",
    "obj.spiralOrder([[7],[9],[6]])"
   ]
  },
  {
   "attachments": {},
   "cell_type": "markdown",
   "metadata": {},
   "source": [
    "#### Spiral Matrix II"
   ]
  },
  {
   "cell_type": "code",
   "execution_count": 51,
   "metadata": {},
   "outputs": [
    {
     "name": "stdout",
     "output_type": "stream",
     "text": [
      "0 0 [[0]]\n",
      "0\n",
      "left > right\n",
      "0 1 0 0 0 [[1]]\n"
     ]
    },
    {
     "data": {
      "text/plain": [
       "[[1]]"
      ]
     },
     "execution_count": 51,
     "metadata": {},
     "output_type": "execute_result"
    }
   ],
   "source": [
    "class Solution:\n",
    "    def generateMatrix(self, n: int) -> List[List[int]]:\n",
    "        result = [[0 for i in range(n)] for j in range(n)]\n",
    "\n",
    "        top = 0\n",
    "        bottom = len(result)-1\n",
    "        \n",
    "        left = 0\n",
    "        right = len(result[0])-1\n",
    "        \n",
    "        dir = 0\n",
    "        \n",
    "        element = 1\n",
    "        \n",
    "        while top <= bottom and left <= right:\n",
    "            dir = dir%4\n",
    "            \n",
    "            if dir == 0: #top > right\n",
    "                for i in range(left, right+1):\n",
    "                    print(top, i, result)\n",
    "                    print(result[top][i])\n",
    "                    result[top][i] = element\n",
    "                    element += 1\n",
    "                print(\"left > right\")\n",
    "                top += 1\n",
    "                \n",
    "            elif dir == 1: #right > bottom\n",
    "                for i in range(top, bottom+1):\n",
    "                    result[i][right] = element\n",
    "                    element += 1\n",
    "                print(\"top > bottom\")\n",
    "                right -= 1\n",
    "                \n",
    "            elif dir == 2: #bottom > left\n",
    "                for i in range(right, left-1, -1):\n",
    "                    result[bottom][i] = element\n",
    "                    element += 1\n",
    "                bottom -= 1 \n",
    "                print(\"right > left\")  \n",
    "                \n",
    "            else: #left > top\n",
    "                for i  in range(bottom, top-1, -1):\n",
    "                    result[i][left] = element\n",
    "                    element += 1\n",
    "                left += 1\n",
    "                print(\"bottom > top\")\n",
    "            \n",
    "            print(dir, top, bottom, right, left, result)\n",
    "            dir += 1\n",
    "            \n",
    "        return result\n",
    "    \n",
    "obj = Solution()\n",
    "obj.generateMatrix(1)\n",
    "    "
   ]
  },
  {
   "attachments": {},
   "cell_type": "markdown",
   "metadata": {},
   "source": [
    "#### Rotate Image"
   ]
  },
  {
   "cell_type": "code",
   "execution_count": 77,
   "metadata": {},
   "outputs": [
    {
     "name": "stdout",
     "output_type": "stream",
     "text": [
      "[[1, 4, 7], [2, 5, 8], [3, 6, 9]]\n",
      "0\n",
      "1\n",
      "2\n"
     ]
    },
    {
     "data": {
      "text/plain": [
       "[[7, 4, 1], [8, 5, 2], [9, 6, 3]]"
      ]
     },
     "execution_count": 77,
     "metadata": {},
     "output_type": "execute_result"
    }
   ],
   "source": [
    "class Solution:\n",
    "    def transpose_matrix(self, matrix):\n",
    "        for i in range(len(matrix)):\n",
    "            for j in range(i):\n",
    "                matrix[i][j], matrix[j][i] = matrix[j][i], matrix[i][j]\n",
    "         \n",
    "        print(matrix)       \n",
    "        return matrix \n",
    "    \n",
    "    def column_swaps(self, matrix):\n",
    "        width = len(matrix[0])-1\n",
    "        height = len(matrix)\n",
    "        \n",
    "        for i in range(height):\n",
    "            print(i)\n",
    "            l, r = 0, width\n",
    "            while l <= r :\n",
    "                matrix[i][l], matrix[i][r] = matrix[i][r], matrix[i][l]\n",
    "                l, r = l+1, r-1\n",
    "                \n",
    "        return matrix\n",
    "    \n",
    "    def rotate(self, matrix: List[List[int]]) -> None:\n",
    "        \"\"\"\n",
    "        Do not return anything, modify matrix in-place instead.\n",
    "        \"\"\"\n",
    "        matrix = self.column_swaps(self.transpose_matrix(matrix))\n",
    "        return matrix\n",
    "    \n",
    "    \n",
    "obj = Solution()\n",
    "obj.rotate([[1,2,3],[4,5,6],[7,8,9]])"
   ]
  },
  {
   "attachments": {},
   "cell_type": "markdown",
   "metadata": {},
   "source": [
    "#### Shift 2D Grid"
   ]
  },
  {
   "cell_type": "code",
   "execution_count": 21,
   "metadata": {},
   "outputs": [
    {
     "name": "stdout",
     "output_type": "stream",
     "text": [
      "1 7\n",
      "2\n"
     ]
    },
    {
     "data": {
      "text/plain": [
       "[[6], [5], [1], [2], [3], [4], [7]]"
      ]
     },
     "execution_count": 21,
     "metadata": {},
     "output_type": "execute_result"
    }
   ],
   "source": [
    "class Solution:\n",
    "    def shiftGrid(self, grid: List[List[int]], k: int) -> List[List[int]]:\n",
    "        width = len(grid[0])\n",
    "        height = len(grid)\n",
    "        print(width, height)\n",
    "        k %= (width*height)\n",
    "        print(k)\n",
    "        result = [[0 for i in range(width)] for j in range(height)]\n",
    "        \n",
    "        for i in range(height):\n",
    "            for j in range(width):\n",
    "                index = (i*width+j+k)%(height*width)\n",
    "                new_col = index % width\n",
    "                new_row = index//width\n",
    "                result[new_row][new_col] = grid[i][j]\n",
    "        \n",
    "        return result\n",
    "    \n",
    "    \n",
    "    \n",
    "obj = Solution()\n",
    "obj.shiftGrid([[1],[2],[3],[4],[7],[6],[5]], k=23)"
   ]
  },
  {
   "cell_type": "code",
   "execution_count": 11,
   "metadata": {},
   "outputs": [
    {
     "data": {
      "text/plain": [
       "0"
      ]
     },
     "execution_count": 11,
     "metadata": {},
     "output_type": "execute_result"
    }
   ],
   "source": [
    "i = 1\n",
    "j = 1\n",
    "\n",
    "z = (i*3+j+5) % (3*3)\n",
    "z"
   ]
  },
  {
   "attachments": {},
   "cell_type": "markdown",
   "metadata": {},
   "source": [
    "#### Set Matrix Zeroes"
   ]
  },
  {
   "cell_type": "code",
   "execution_count": 11,
   "metadata": {},
   "outputs": [
    {
     "name": "stdout",
     "output_type": "stream",
     "text": [
      "[1, 0, 0] [1, 0, 0, 1]\n"
     ]
    },
    {
     "data": {
      "text/plain": [
       "[[0, 0, 0, 0], [0, 4, 5, 0], [0, 3, 1, 0]]"
      ]
     },
     "execution_count": 11,
     "metadata": {},
     "output_type": "execute_result"
    }
   ],
   "source": [
    "class Solution:\n",
    "    def setZeroes(self, matrix: List[List[int]]) -> None:\n",
    "        \"\"\"\n",
    "        Do not return anything, modify matrix in-place instead.\n",
    "        \"\"\"\n",
    "        row_length = len(matrix)\n",
    "        column_length = len(matrix[0])\n",
    "\n",
    "        row_flag = [0 for i in range(row_length)]\n",
    "        column_flag = [0 for i in range(column_length)] \n",
    "\n",
    "        for i in range(row_length):\n",
    "            for j in range(column_length):\n",
    "                if matrix[i][j] == 0:\n",
    "                    row_flag[i] = 1\n",
    "                    column_flag[j] = 1\n",
    "                    \n",
    "        print(row_flag, column_flag)\n",
    "        \n",
    "        for i in range(row_length):\n",
    "            for j in range(column_length):\n",
    "                if row_flag[i] == 1 or column_flag[j] == 1:\n",
    "                    matrix[i][j] = 0\n",
    "                    \n",
    "        return matrix\n",
    "        \n",
    "obj = Solution()\n",
    "obj.setZeroes([[0,1,2,0],[3,4,5,2],[1,3,1,5]])"
   ]
  },
  {
   "cell_type": "code",
   "execution_count": null,
   "metadata": {},
   "outputs": [],
   "source": []
  }
 ],
 "metadata": {
  "kernelspec": {
   "display_name": "base",
   "language": "python",
   "name": "python3"
  },
  "language_info": {
   "codemirror_mode": {
    "name": "ipython",
    "version": 3
   },
   "file_extension": ".py",
   "mimetype": "text/x-python",
   "name": "python",
   "nbconvert_exporter": "python",
   "pygments_lexer": "ipython3",
   "version": "3.9.12"
  },
  "orig_nbformat": 4,
  "vscode": {
   "interpreter": {
    "hash": "49cb93f377a7abe7414b7b0f21fb3017538004a126cf690fb524202736b7fb92"
   }
  }
 },
 "nbformat": 4,
 "nbformat_minor": 2
}
