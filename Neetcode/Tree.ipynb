{
 "cells": [
  {
   "cell_type": "code",
   "execution_count": 1,
   "metadata": {},
   "outputs": [],
   "source": [
    "from typing import List"
   ]
  },
  {
   "attachments": {},
   "cell_type": "markdown",
   "metadata": {},
   "source": [
    "#### PreOrder"
   ]
  },
  {
   "cell_type": "code",
   "execution_count": null,
   "metadata": {},
   "outputs": [],
   "source": [
    "class Solution:\n",
    "    def treeTraversal(self, root, result):\n",
    "        if root == None:\n",
    "            return\n",
    "        result.append(root.val)\n",
    "        self.treeTraversal(root.left, result)\n",
    "        self.treeTraversal(root.right, result)\n",
    "\n",
    "    def preorderTraversal(self, root: Optional[TreeNode]) -> List[int]:\n",
    "        result = []\n",
    "        self.treeTraversal(root, result)\n",
    "        return result"
   ]
  },
  {
   "attachments": {},
   "cell_type": "markdown",
   "metadata": {},
   "source": [
    "#### Inorder"
   ]
  },
  {
   "cell_type": "code",
   "execution_count": null,
   "metadata": {},
   "outputs": [],
   "source": [
    "class Solution:\n",
    "    def treetraversal(self, root, result):\n",
    "        if root == None:\n",
    "            return \n",
    "        self.treetraversal(root.left, result)\n",
    "        result.append(root.val)\n",
    "        self.treetraversal(root.right, result)\n",
    "\n",
    "    \n",
    "    def inorderTraversal(self, root: Optional[TreeNode]) -> List[int]:\n",
    "        result = []\n",
    "        self.treetraversal(root, result)\n",
    "        return result"
   ]
  },
  {
   "attachments": {},
   "cell_type": "markdown",
   "metadata": {},
   "source": [
    "#### PostOrder"
   ]
  },
  {
   "cell_type": "code",
   "execution_count": null,
   "metadata": {},
   "outputs": [],
   "source": [
    "class Solution:\n",
    "    def treeTraversal(self, root, result):\n",
    "        if root == None:\n",
    "            return\n",
    "        self.treeTraversal(root.left, result)\n",
    "        self.treeTraversal(root.right, result)\n",
    "        result.append(root.val)\n",
    "\n",
    "    def postorderTraversal(self, root: Optional[TreeNode]) -> List[int]:\n",
    "        result = []\n",
    "        self.treeTraversal(root, result)\n",
    "        return result"
   ]
  },
  {
   "attachments": {},
   "cell_type": "markdown",
   "metadata": {},
   "source": [
    "#### MaxDepth of Binary Tree"
   ]
  },
  {
   "cell_type": "code",
   "execution_count": null,
   "metadata": {},
   "outputs": [],
   "source": [
    "class Solution:\n",
    "    def treeTraversal(self, root):\n",
    "        if root == None:\n",
    "            return 0\n",
    "        return max(self.treeTraversal(root.left), self.treeTraversal(root.right))+1\n",
    "\n",
    "    def maxDepth(self, root: Optional[TreeNode]) -> int:\n",
    "        return self.treeTraversal(root)"
   ]
  },
  {
   "attachments": {},
   "cell_type": "markdown",
   "metadata": {},
   "source": [
    "#### Invert Binary Tree"
   ]
  },
  {
   "cell_type": "code",
   "execution_count": null,
   "metadata": {},
   "outputs": [],
   "source": [
    "class Solution:\n",
    "    def treeTraversal(self, root):\n",
    "        if root == None:\n",
    "            return \n",
    "        root.left, root.right = root.right, root.left\n",
    "        self.treeTraversal(root.left)\n",
    "        self.treeTraversal(root.right)\n",
    "        # root.left, root.right = root.right, root.left -> both works as we will rotate root also\n",
    "\n",
    "\n",
    "    def invertTree(self, root: Optional[TreeNode]) -> Optional[TreeNode]:\n",
    "        self.treeTraversal(root)\n",
    "        return root"
   ]
  },
  {
   "attachments": {},
   "cell_type": "markdown",
   "metadata": {},
   "source": [
    "#### Same Tree"
   ]
  },
  {
   "cell_type": "code",
   "execution_count": null,
   "metadata": {},
   "outputs": [],
   "source": [
    "class Solution:\n",
    "    def isSameTree(self, p: Optional[TreeNode], q: Optional[TreeNode]) -> bool:\n",
    "        if not p and not q:\n",
    "            return True\n",
    "        if p and q and (p.val == q.val):\n",
    "            return self.isSameTree(p.left, q.left) and self.isSameTree(p.right, q.right)\n",
    "        else:\n",
    "            return False"
   ]
  },
  {
   "attachments": {},
   "cell_type": "markdown",
   "metadata": {},
   "source": [
    "#### Balanced Binary Tree"
   ]
  },
  {
   "cell_type": "code",
   "execution_count": null,
   "metadata": {},
   "outputs": [],
   "source": [
    "class Solution:\n",
    "    def maxDepth(self, root):\n",
    "        if root is None:\n",
    "            return 0\n",
    "        else:\n",
    "            return 1+max(self.maxDepth(root.left), self.maxDepth(root.right))\n",
    "\n",
    "    def isBalanced(self, root: Optional[TreeNode]) -> bool:\n",
    "        if not root:\n",
    "            return True\n",
    "\n",
    "        if abs(self.maxDepth(root.left) - self.maxDepth(root.right)) <= 1:\n",
    "            return self.isBalanced(root.left) and self.isBalanced(root.right)\n",
    "        else:\n",
    "            return False"
   ]
  },
  {
   "attachments": {},
   "cell_type": "markdown",
   "metadata": {},
   "source": [
    "#### Subtree of Another Tree"
   ]
  },
  {
   "cell_type": "code",
   "execution_count": null,
   "metadata": {},
   "outputs": [],
   "source": [
    "# Definition for a binary tree node.\n",
    "# class TreeNode:\n",
    "#     def __init__(self, val=0, left=None, right=None):\n",
    "#         self.val = val\n",
    "#         self.left = left\n",
    "#         self.right = right\n",
    "class Solution:\n",
    "    def sameTree(self, p, q):\n",
    "        if not q and not p:\n",
    "            return True\n",
    "        if p and q and (p.val == q.val):\n",
    "            return self.sameTree(p.left, q.left) and self.sameTree(p.right, q.right)\n",
    "        else:\n",
    "            return False\n",
    "\n",
    "    def isSubtree(self, root: Optional[TreeNode], subRoot: Optional[TreeNode]) -> bool:\n",
    "        if not root and not subRoot:\n",
    "            return True\n",
    "        if root and subRoot and root.val != subRoot.val:\n",
    "            return self.isSubtree(root.left, subRoot) or self.isSubtree(root.right, subRoot)\n",
    "\n",
    "        elif root and subRoot and root.val == subRoot.val:\n",
    "            return self.sameTree(root.left, subRoot.left) and self.sameTree(root.right, subRoot.right)\n",
    "\n",
    "        else:\n",
    "            return False\n"
   ]
  },
  {
   "cell_type": "code",
   "execution_count": null,
   "metadata": {},
   "outputs": [],
   "source": [
    "class Solution:\n",
    "    def sameTree(self, p, q):\n",
    "        if not q and not p:\n",
    "            return True\n",
    "        if p and q and (p.val == q.val):\n",
    "            return self.sameTree(p.left, q.left) and self.sameTree(p.right, q.right)\n",
    "        else:\n",
    "            return False\n",
    "\n",
    "    def isSubtree(self, root: Optional[TreeNode], subRoot: Optional[TreeNode]) -> bool:\n",
    "        if not root:\n",
    "            return False\n",
    "        if not subRoot:\n",
    "            return True\n",
    "\n",
    "        if self.sameTree(root, subRoot):\n",
    "            return True\n",
    "        return self.isSubtree(root.left, subRoot) or self.isSubtree(root.right, subRoot)"
   ]
  }
 ],
 "metadata": {
  "kernelspec": {
   "display_name": "base",
   "language": "python",
   "name": "python3"
  },
  "language_info": {
   "codemirror_mode": {
    "name": "ipython",
    "version": 3
   },
   "file_extension": ".py",
   "mimetype": "text/x-python",
   "name": "python",
   "nbconvert_exporter": "python",
   "pygments_lexer": "ipython3",
   "version": "3.9.12"
  },
  "orig_nbformat": 4
 },
 "nbformat": 4,
 "nbformat_minor": 2
}
