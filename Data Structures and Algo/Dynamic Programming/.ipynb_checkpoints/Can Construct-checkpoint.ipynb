{
 "cells": [
  {
   "cell_type": "code",
   "execution_count": 7,
   "id": "4c12381e",
   "metadata": {},
   "outputs": [
    {
     "name": "stdout",
     "output_type": "stream",
     "text": [
      "True\n"
     ]
    }
   ],
   "source": [
    "def conConst(target,words):\n",
    "    if target == \"\": return True\n",
    "    \n",
    "    for i in words:\n",
    "        if target.startswith(i) ==  True:\n",
    "            suffix = target.removeprefix(i)\n",
    "            if conConst(suffix, words) == True:\n",
    "                return True\n",
    "            \n",
    "    return False\n",
    "\n",
    "print(conConst(\"abcdef\",[\"ab\",\"abc\",\"cd\",\"def\",\"abcd\"]))\n",
    "#print(conConst(\"eeeeeeeeeeeeeeeeeeeeeeeeeeef\",[\"e\",\"ee\",\"eee\",\"eeee\",\"eeeee\",\"eeeee\"]))                "
   ]
  },
  {
   "cell_type": "code",
   "execution_count": 9,
   "id": "6021399b",
   "metadata": {},
   "outputs": [
    {
     "name": "stdout",
     "output_type": "stream",
     "text": [
      "True\n",
      "False\n"
     ]
    }
   ],
   "source": [
    "def conConstM(target,words,d):\n",
    "    if target in d: return d[target]\n",
    "    if target == \"\": return True\n",
    "    \n",
    "    for i in words:\n",
    "        if target.startswith(i) ==  True:\n",
    "            suffix = target.removeprefix(i)\n",
    "            if conConstM(suffix, words,d) == True:\n",
    "                d[target] = True\n",
    "                return True\n",
    "    d[target] = False\n",
    "    return False\n",
    "\n",
    "d = dict()\n",
    "print(conConstM(\"abcdef\",[\"ab\",\"abc\",\"cd\",\"def\",\"abcd\"],d))\n",
    "print(conConstM(\"eeeeeeeeeeeeeeeeeeeeeeeeeeef\",[\"e\",\"ee\",\"eee\",\"eeee\",\"eeeee\",\"eeeee\"],d))                "
   ]
  }
 ],
 "metadata": {
  "kernelspec": {
   "display_name": "Python 3 (ipykernel)",
   "language": "python",
   "name": "python3"
  },
  "language_info": {
   "codemirror_mode": {
    "name": "ipython",
    "version": 3
   },
   "file_extension": ".py",
   "mimetype": "text/x-python",
   "name": "python",
   "nbconvert_exporter": "python",
   "pygments_lexer": "ipython3",
   "version": "3.9.5"
  }
 },
 "nbformat": 4,
 "nbformat_minor": 5
}
