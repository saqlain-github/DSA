{
 "cells": [
  {
   "cell_type": "markdown",
   "id": "a6e59683",
   "metadata": {},
   "source": [
    "<h1>Brute Force</h1>"
   ]
  },
  {
   "cell_type": "code",
   "execution_count": 14,
   "id": "a27c6e53",
   "metadata": {
    "scrolled": true
   },
   "outputs": [
    {
     "name": "stdout",
     "output_type": "stream",
     "text": [
      "9 [1, 2, 3, 4, 5, 9]\n"
     ]
    }
   ],
   "source": [
    "def bestSum(m, bestSumlist):\n",
    "    if m == 0:\n",
    "        return []\n",
    "    if m < 0:\n",
    "        return None\n",
    "    \n",
    "    shortest_comb = None\n",
    "    \n",
    "    for i in bestSumlist:\n",
    "        remainder = m - i\n",
    "        remainder_combination = bestSum(remainder, bestSumlist)\n",
    "        if remainder_combination != None:\n",
    "            remainder_combination.append(i) \n",
    "            combination = remainder_combination\n",
    "            if shortest_comb == None or len(shortest_comb) > len(combination):\n",
    "                shortest_comb = combination\n",
    "            \n",
    "    return shortest_comb\n",
    "\n",
    "print(9,[1,2,3,4,5,9])"
   ]
  },
  {
   "cell_type": "code",
   "execution_count": 4,
   "id": "8e0ec08a",
   "metadata": {},
   "outputs": [
    {
     "name": "stdout",
     "output_type": "stream",
     "text": [
      "[8]\n"
     ]
    }
   ],
   "source": []
  },
  {
   "cell_type": "markdown",
   "id": "8efae286",
   "metadata": {},
   "source": [
    "<h1>Memoizatioin</h1>"
   ]
  },
  {
   "cell_type": "code",
   "execution_count": null,
   "id": "66f2f64e",
   "metadata": {},
   "outputs": [],
   "source": []
  },
  {
   "cell_type": "code",
   "execution_count": null,
   "id": "14fd48d6",
   "metadata": {},
   "outputs": [],
   "source": []
  }
 ],
 "metadata": {
  "kernelspec": {
   "display_name": "Python 3",
   "language": "python",
   "name": "python3"
  },
  "language_info": {
   "codemirror_mode": {
    "name": "ipython",
    "version": 3
   },
   "file_extension": ".py",
   "mimetype": "text/x-python",
   "name": "python",
   "nbconvert_exporter": "python",
   "pygments_lexer": "ipython3",
   "version": "3.8.8"
  }
 },
 "nbformat": 4,
 "nbformat_minor": 5
}
