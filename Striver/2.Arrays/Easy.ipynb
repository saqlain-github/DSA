{
 "cells": [
  {
   "cell_type": "markdown",
   "metadata": {},
   "source": [
    "##### Largest in the array"
   ]
  },
  {
   "cell_type": "code",
   "execution_count": 1,
   "metadata": {},
   "outputs": [
    {
     "name": "stdout",
     "output_type": "stream",
     "text": [
      "5\n"
     ]
    }
   ],
   "source": [
    "def largest(arr):\n",
    "    max = -1\n",
    "    for i in arr:\n",
    "        if i > max:\n",
    "            max = i\n",
    "            \n",
    "    return max\n",
    "\n",
    "print(largest([2,5,1,3,0]))"
   ]
  },
  {
   "cell_type": "markdown",
   "metadata": {},
   "source": [
    "##### Second Largest in array without sorting"
   ]
  },
  {
   "cell_type": "code",
   "execution_count": 13,
   "metadata": {},
   "outputs": [
    {
     "name": "stdout",
     "output_type": "stream",
     "text": [
      "[2, 0, 3, 4, 5, 6, 7, 8, 9]\n",
      "[3, 2, 3, 4, 5, 6, 7, 8, 9]\n",
      "[4, 3, 3, 4, 5, 6, 7, 8, 9]\n",
      "[5, 4, 3, 4, 5, 6, 7, 8, 9]\n",
      "[6, 5, 3, 4, 5, 6, 7, 8, 9]\n",
      "[7, 6, 3, 4, 5, 6, 7, 8, 9]\n",
      "[8, 7, 3, 4, 5, 6, 7, 8, 9]\n",
      "[9, 8, 3, 4, 5, 6, 7, 8, 9]\n",
      "[9, 8, 3, 4, 5, 6, 7, 8, 9]\n"
     ]
    }
   ],
   "source": [
    "def second_largest(arr):\n",
    "    arr.insert(0,0)\n",
    "    for i in range(1,len(arr)):\n",
    "        if arr[0] < arr[i] :\n",
    "            arr[1], arr[0] = arr[0], arr[i]\n",
    "        elif arr[0] > arr[i] and arr[1] < arr[i]:\n",
    "            arr[1], arr[i] = arr[i], arr[1]\n",
    "        print(arr)\n",
    "    return arr            \n",
    "\n",
    "print(second_largest([2,3,4,5,6,7,8,9]))"
   ]
  },
  {
   "cell_type": "code",
   "execution_count": null,
   "metadata": {},
   "outputs": [],
   "source": []
  }
 ],
 "metadata": {
  "kernelspec": {
   "display_name": "Python 3.9.12 ('base')",
   "language": "python",
   "name": "python3"
  },
  "language_info": {
   "codemirror_mode": {
    "name": "ipython",
    "version": 3
   },
   "file_extension": ".py",
   "mimetype": "text/x-python",
   "name": "python",
   "nbconvert_exporter": "python",
   "pygments_lexer": "ipython3",
   "version": "3.9.12"
  },
  "orig_nbformat": 4,
  "vscode": {
   "interpreter": {
    "hash": "49cb93f377a7abe7414b7b0f21fb3017538004a126cf690fb524202736b7fb92"
   }
  }
 },
 "nbformat": 4,
 "nbformat_minor": 2
}
