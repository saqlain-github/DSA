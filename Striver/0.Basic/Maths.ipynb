{
 "cells": [
  {
   "cell_type": "markdown",
   "metadata": {},
   "source": [
    "Given an integer N , write program to count number of digits in N."
   ]
  },
  {
   "cell_type": "code",
   "execution_count": 4,
   "metadata": {},
   "outputs": [
    {
     "name": "stdout",
     "output_type": "stream",
     "text": [
      "6\n"
     ]
    }
   ],
   "source": [
    "def count_Numbers(num):\n",
    "    sum = 0\n",
    "    while num > 0:\n",
    "        remainder = num %10\n",
    "        num = num //10\n",
    "        sum = sum + remainder\n",
    "    return sum\n",
    "    \n",
    "print(count_Numbers(123))"
   ]
  },
  {
   "cell_type": "markdown",
   "metadata": {},
   "source": [
    "Given a signed 32-bit integer x, return x with its digits reversed. If reversing x causes the value to go outside the signed 32-bit integer range [-231, 231 - 1], then return 0."
   ]
  },
  {
   "cell_type": "code",
   "execution_count": 19,
   "metadata": {},
   "outputs": [
    {
     "name": "stdout",
     "output_type": "stream",
     "text": [
      "-321\n"
     ]
    }
   ],
   "source": [
    "def reverse(x: int) -> int:  \n",
    "    if x > 0:  \n",
    "        a =  int(str(x)[::-1])  \n",
    "    if x <=0:  \n",
    "        a = -1 * int(str(x*-1)[::-1])  \n",
    "    mina = -2**31  \n",
    "    maxa = 2**31 - 1  \n",
    "    if a not in range(mina, maxa):  \n",
    "        return 0  \n",
    "    else:  \n",
    "        return a\n",
    "\n",
    "print(reverse(-123))"
   ]
  },
  {
   "cell_type": "markdown",
   "metadata": {},
   "source": [
    "Given a number check if it is a palindrome."
   ]
  },
  {
   "cell_type": "code",
   "execution_count": 25,
   "metadata": {},
   "outputs": [
    {
     "data": {
      "text/plain": [
       "True"
      ]
     },
     "execution_count": 25,
     "metadata": {},
     "output_type": "execute_result"
    }
   ],
   "source": [
    "def palidrome(x:str):\n",
    "    x = str(x)\n",
    "    if s[::-1] == s:\n",
    "        return True\n",
    "    return False\n",
    "\n",
    "palidrome(\"ABA\")"
   ]
  },
  {
   "cell_type": "markdown",
   "metadata": {},
   "source": [
    "Find gcd of two numbers"
   ]
  },
  {
   "cell_type": "code",
   "execution_count": 27,
   "metadata": {},
   "outputs": [
    {
     "data": {
      "text/plain": [
       "1"
      ]
     },
     "execution_count": 27,
     "metadata": {},
     "output_type": "execute_result"
    }
   ],
   "source": [
    "def gcd(a,b):\n",
    "    for i in range(min(a,b),0,-1):\n",
    "        if a%i == 0 and b%i == 0:\n",
    "            return i\n",
    "        \n",
    "gcd(7,8)"
   ]
  },
  {
   "cell_type": "markdown",
   "metadata": {},
   "source": [
    " Given a number, check if it is Armstrong Number or Not."
   ]
  },
  {
   "cell_type": "code",
   "execution_count": 29,
   "metadata": {},
   "outputs": [
    {
     "data": {
      "text/plain": [
       "True"
      ]
     },
     "execution_count": 29,
     "metadata": {},
     "output_type": "execute_result"
    }
   ],
   "source": [
    "def armstrong(num):\n",
    "    sum = 0\n",
    "    temp = num\n",
    "    while num > 0:\n",
    "        remainder = num % 10\n",
    "        sum = sum + remainder**3\n",
    "        num = num //10\n",
    "    if temp == sum:\n",
    "        return True\n",
    "    return False\n",
    "\n",
    "armstrong(153)\n",
    "        "
   ]
  },
  {
   "cell_type": "markdown",
   "metadata": {},
   "source": [
    "Print all Divisors of a given Number\n",
    "\n",
    "Solution 2:\n",
    "Intuition:\n",
    "\n",
    "The above method takes O(n) time complexity. We can also think of another approach. If we take a closer look, we can notice that, the quotient of a division by one of the divisors is actually another divisor. Like, 4 divides 36. The quotient is 9, and 9 also divides 36.\n",
    "Another intuition is that, the root of a number actually acts as a splitting part of all the divisors of a number.\n",
    "Also the quotient of a divison by any divisor gives an equivalent divisor on the other side. Like, 4 gives 9 while dividing 36. See the image below.\n",
    "\n",
    "Approach:\n",
    "\n",
    "From the intuition, we can come to a conclusion that we don’t need to traverse all the candidates and if we found a single divisor, we can also find another divisor(Here, we need to be careful, if the given number is perfect square, like 36, 6 also give 6 as quotient. This is a corner case.)\n",
    "By keeping these in mind, it is enough if we traverse upto the root of a number. Whenever we find a divisor, we print it and also print the quotient. If the quotient is same, we ignore it. Because, root of a perfect square will give same quotient as itself.\n",
    "The quotients are the numbers that are on the other side of the root. So, its okay if we stop traversing at root.\n",
    "This approach is time efficient than the previous one. But the output sequences are not same. In the previous approach, we get an ordered output unlike here."
   ]
  },
  {
   "cell_type": "code",
   "execution_count": 37,
   "metadata": {},
   "outputs": [
    {
     "name": "stdout",
     "output_type": "stream",
     "text": [
      "[1, 36, 2, 18, 3, 12, 4, 9, 7, 6]\n"
     ]
    }
   ],
   "source": [
    "from math import sqrt,ceil\n",
    "def divisors(n):\n",
    "    l = []\n",
    "    for i in range(1,ceil(sqrt(n)+1)):\n",
    "        if n%i == 0:\n",
    "            l.append(i)\n",
    "        if i != n//i: l.append(n//i)\n",
    "        \n",
    "    return l\n",
    "\n",
    "print(divisors(36))"
   ]
  },
  {
   "cell_type": "markdown",
   "metadata": {},
   "source": [
    "Check if a number is prime or not"
   ]
  },
  {
   "cell_type": "code",
   "execution_count": 40,
   "metadata": {},
   "outputs": [
    {
     "name": "stdout",
     "output_type": "stream",
     "text": [
      "False\n"
     ]
    }
   ],
   "source": [
    "from math import sqrt,ceil\n",
    "def prime(n):\n",
    "    l = []\n",
    "    for i in range(2,ceil(sqrt(n)+1)):\n",
    "        if n%i == 0:\n",
    "            return False\n",
    "        \n",
    "    return True\n",
    "\n",
    "\n",
    "print(prime(36))"
   ]
  },
  {
   "cell_type": "code",
   "execution_count": null,
   "metadata": {},
   "outputs": [],
   "source": []
  }
 ],
 "metadata": {
  "kernelspec": {
   "display_name": "Python 3.9.12 ('base')",
   "language": "python",
   "name": "python3"
  },
  "language_info": {
   "codemirror_mode": {
    "name": "ipython",
    "version": 3
   },
   "file_extension": ".py",
   "mimetype": "text/x-python",
   "name": "python",
   "nbconvert_exporter": "python",
   "pygments_lexer": "ipython3",
   "version": "3.9.12"
  },
  "orig_nbformat": 4,
  "vscode": {
   "interpreter": {
    "hash": "49cb93f377a7abe7414b7b0f21fb3017538004a126cf690fb524202736b7fb92"
   }
  }
 },
 "nbformat": 4,
 "nbformat_minor": 2
}
