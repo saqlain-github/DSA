{
 "cells": [
  {
   "cell_type": "code",
   "execution_count": 205,
   "metadata": {},
   "outputs": [
    {
     "name": "stdout",
     "output_type": "stream",
     "text": [
      "* * * * \n",
      "* * * * \n",
      "* * * * \n",
      "* * * * \n"
     ]
    }
   ],
   "source": [
    "def sqaure_pattern(n):\n",
    "    for i in range(n):\n",
    "        print(\"* \"*n)\n",
    "        \n",
    "sqaure_pattern(4)"
   ]
  },
  {
   "cell_type": "code",
   "execution_count": 167,
   "metadata": {},
   "outputs": [
    {
     "name": "stdout",
     "output_type": "stream",
     "text": [
      "* \n",
      "* * \n",
      "* * * \n",
      "* * * * \n",
      "* * * * * \n"
     ]
    }
   ],
   "source": [
    "def right_angle_stars(n):\n",
    "    for i in range(1,n+1):\n",
    "        for j in range(i):\n",
    "            print(f\"* \", end = \"\")\n",
    "        print(end=\"\\n\")\n",
    "right_angle_stars(5)"
   ]
  },
  {
   "cell_type": "code",
   "execution_count": 168,
   "metadata": {},
   "outputs": [
    {
     "name": "stdout",
     "output_type": "stream",
     "text": [
      "1 \n",
      "1 2 \n",
      "1 2 3 \n",
      "1 2 3 4 \n",
      "1 2 3 4 5 \n"
     ]
    }
   ],
   "source": [
    "def right_angle_numbers(n):\n",
    "    for i in range(1,n+1):\n",
    "        for j in range(i):\n",
    "            print(f\"{j+1} \", end = \"\")\n",
    "        print(end=\"\\n\")\n",
    "\n",
    "right_angle_numbers(5)"
   ]
  },
  {
   "cell_type": "code",
   "execution_count": 169,
   "metadata": {},
   "outputs": [
    {
     "name": "stdout",
     "output_type": "stream",
     "text": [
      "* * * * * \n",
      "* * * * \n",
      "* * * \n",
      "* * \n",
      "* \n"
     ]
    }
   ],
   "source": [
    "def right_angle_stars(n):\n",
    "    for i in range(n ,0,-1):\n",
    "        for j in range(i):\n",
    "            print(f\"* \", end = \"\")\n",
    "        print(end=\"\\n\")\n",
    "right_angle_stars(5)"
   ]
  },
  {
   "cell_type": "code",
   "execution_count": 170,
   "metadata": {},
   "outputs": [
    {
     "name": "stdout",
     "output_type": "stream",
     "text": [
      "1 2 3 4 5 \n",
      "1 2 3 4 \n",
      "1 2 3 \n",
      "1 2 \n",
      "1 \n"
     ]
    }
   ],
   "source": [
    "def patterns(n):\n",
    "    for i in range(n ,0,-1):\n",
    "        for j in range(i):\n",
    "            print(f\"{j+1} \", end = \"\")\n",
    "        print(end=\"\\n\")\n",
    "\n",
    "patterns(5)"
   ]
  },
  {
   "cell_type": "code",
   "execution_count": 171,
   "metadata": {},
   "outputs": [
    {
     "name": "stdout",
     "output_type": "stream",
     "text": [
      "    *\n",
      "   ***\n",
      "  *****\n",
      " *******\n",
      "*********\n"
     ]
    }
   ],
   "source": [
    "def patterns(n):\n",
    "    for i in range(1,n+1):\n",
    "        #print(\" \"*(n-i-1))\n",
    "        for j in range(n-i,0,-1):\n",
    "            print(\" \",end=\"\")\n",
    "        print(\"*\"*(2*i-1))\n",
    "\n",
    "patterns(5)"
   ]
  },
  {
   "cell_type": "code",
   "execution_count": 172,
   "metadata": {},
   "outputs": [
    {
     "name": "stdout",
     "output_type": "stream",
     "text": [
      "*********\n",
      " *******\n",
      "  *****\n",
      "   ***\n",
      "    *\n"
     ]
    }
   ],
   "source": [
    "def patterns(n):\n",
    "    for i in range(n,0,-1):\n",
    "        #print(\" \"*(n-i-1))\n",
    "        for j in range(0,n-i):\n",
    "            print(\" \",end=\"\")\n",
    "        print(\"*\"*(2*i-1))\n",
    "        \n",
    "        \n",
    "        \n",
    "        \n",
    "patterns(5)"
   ]
  },
  {
   "cell_type": "code",
   "execution_count": 173,
   "metadata": {},
   "outputs": [
    {
     "name": "stdout",
     "output_type": "stream",
     "text": [
      "     \n",
      "    * \n",
      "   * * \n",
      "  * * * \n",
      " * * * * \n",
      "* * * * * \n",
      "* * * * * \n",
      " * * * * \n",
      "  * * * \n",
      "   * * \n",
      "    * \n"
     ]
    }
   ],
   "source": [
    "def patterns(n):\n",
    "    x = n//2\n",
    "    for i in range(n+1):\n",
    "        #print(\" \"*(n-i-1))\n",
    "        if i <= n//2:\n",
    "            for j in range(x-i,0,-1):\n",
    "                print(\" \",end=\"\")\n",
    "            print(\"* \"*(i))\n",
    "        else:\n",
    "            for j in range(0,i-(x)-1):\n",
    "                print(\" \",end=\"\")\n",
    "            print(\"* \"*(n-i+1))\n",
    "        \n",
    "patterns(10)"
   ]
  },
  {
   "cell_type": "code",
   "execution_count": 174,
   "metadata": {},
   "outputs": [
    {
     "name": "stdout",
     "output_type": "stream",
     "text": [
      "\n",
      "* \n",
      "* * \n",
      "* * * \n",
      "* * * * \n",
      "* * * * * \n",
      "* * * * * \n",
      "* * * * \n",
      "* * * \n",
      "* * \n",
      "* \n"
     ]
    }
   ],
   "source": [
    "def patterns(n):\n",
    "    x = n//2\n",
    "    for i in range(n+1):\n",
    "        if i <= x:\n",
    "            print(\"* \"*(i))\n",
    "        else:\n",
    "            print(\"* \"*(n-i+1))\n",
    "        \n",
    "patterns(10)"
   ]
  },
  {
   "cell_type": "code",
   "execution_count": 175,
   "metadata": {},
   "outputs": [
    {
     "name": "stdout",
     "output_type": "stream",
     "text": [
      "1 \n",
      "0 1 \n",
      "1 0 1 \n",
      "0 1 0 1 \n",
      "1 0 1 0 1 \n",
      "0 1 0 1 0 1 \n"
     ]
    }
   ],
   "source": [
    "def patterns(n):\n",
    "    for i in range(n+1):\n",
    "        for j in range(0,i+1):\n",
    "            if (i+j+2)%2 == 0:\n",
    "                print(f\"1 \", end = \"\")\n",
    "            if (i+j+2)%2 == 1:\n",
    "                print(f\"0 \", end = \"\")\n",
    "        print(end=\"\\n\")\n",
    "\n",
    "patterns(5)"
   ]
  },
  {
   "cell_type": "code",
   "execution_count": 176,
   "metadata": {},
   "outputs": [
    {
     "name": "stdout",
     "output_type": "stream",
     "text": [
      "1                 1 \n",
      "1 2             2 1 \n",
      "1 2 3         3 2 1 \n",
      "1 2 3 4     4 3 2 1 \n",
      "1 2 3 4 5 5 4 3 2 1 \n"
     ]
    }
   ],
   "source": [
    "def patterns(n):\n",
    "    for i in range(1,n+1):\n",
    "        for j in range(i):\n",
    "             print(f\"{j+1} \", end = \"\")\n",
    "        for j in range((n-i)*2):\n",
    "            print(\"  \",end=\"\")\n",
    "        for j in range(i,0,-1):\n",
    "            print(f\"{j} \", end = \"\")\n",
    "        print(end=\"\\n\")\n",
    "             \n",
    "\n",
    "patterns(5)\n"
   ]
  },
  {
   "cell_type": "code",
   "execution_count": 177,
   "metadata": {},
   "outputs": [
    {
     "name": "stdout",
     "output_type": "stream",
     "text": [
      "1 \n",
      "2 3 \n",
      "4 5 6 \n",
      "7 8 9 10 \n",
      "11 12 13 14 15 \n"
     ]
    }
   ],
   "source": [
    "def patterns(n):\n",
    "    count = 1\n",
    "    for i in range(1,n+1):\n",
    "        for j in range(i):\n",
    "            print(f\"{count} \", end = \"\")\n",
    "            count += 1\n",
    "        print(end=\"\\n\")\n",
    "\n",
    "patterns(5)"
   ]
  },
  {
   "cell_type": "code",
   "execution_count": 178,
   "metadata": {},
   "outputs": [
    {
     "name": "stdout",
     "output_type": "stream",
     "text": [
      "\n",
      "A\n",
      "AB\n",
      "ABC\n",
      "ABCD\n",
      "ABCDE\n"
     ]
    }
   ],
   "source": [
    "def patterns(n):\n",
    "    base = 65\n",
    "    for i in range(n+1):\n",
    "        for j in range(i):\n",
    "            print(f\"{chr(base+j)}\", end = \"\")\n",
    "        print(end=\"\\n\")\n",
    "\n",
    "patterns(5)"
   ]
  },
  {
   "cell_type": "code",
   "execution_count": 179,
   "metadata": {},
   "outputs": [
    {
     "name": "stdout",
     "output_type": "stream",
     "text": [
      "ABCDE\n",
      "ABCD\n",
      "ABC\n",
      "AB\n",
      "A\n"
     ]
    }
   ],
   "source": [
    "def patterns(n):\n",
    "    base = 65\n",
    "    for i in range(n,0,-1):\n",
    "        for j in range(i):\n",
    "            print(f\"{chr(base+j)}\", end = \"\")\n",
    "        print(end=\"\\n\")\n",
    "\n",
    "patterns(5)"
   ]
  },
  {
   "cell_type": "code",
   "execution_count": 180,
   "metadata": {},
   "outputs": [
    {
     "name": "stdout",
     "output_type": "stream",
     "text": [
      "\n",
      "A\n",
      "BB\n",
      "CCC\n",
      "DDDD\n",
      "EEEEE\n"
     ]
    }
   ],
   "source": [
    "def patterns(n):\n",
    "    base = 65\n",
    "    for i in range(n+1):\n",
    "        for j in range(i):\n",
    "            print(f\"{chr(base+i-1)}\", end = \"\")\n",
    "        print(end=\"\\n\")\n",
    "\n",
    "patterns(5)"
   ]
  },
  {
   "cell_type": "code",
   "execution_count": 181,
   "metadata": {},
   "outputs": [
    {
     "name": "stdout",
     "output_type": "stream",
     "text": [
      "    A\n",
      "   ABA\n",
      "  ABCBA\n",
      " ABCDCBA\n",
      "ABCDEDCBA\n"
     ]
    }
   ],
   "source": [
    "def patterns(n):\n",
    "    base = 65\n",
    "    for i in range(1,n+1):\n",
    "        for j in range(n-i,0,-1):\n",
    "            print(\" \",end=\"\")\n",
    "        for k in range(2*i-1):\n",
    "            if k <= (2*i-1)//2:\n",
    "                print(f\"{chr(base+k)}\", end = \"\")\n",
    "            else:\n",
    "                print(f\"{chr(base+(2*i-1)-k-1)}\", end = \"\")\n",
    "        print(\"\", end = \"\\n\")\n",
    "\n",
    "patterns(5)"
   ]
  },
  {
   "cell_type": "code",
   "execution_count": 182,
   "metadata": {},
   "outputs": [
    {
     "name": "stdout",
     "output_type": "stream",
     "text": [
      "\n",
      "E\n",
      "ED\n",
      "EDC\n",
      "EDCB\n",
      "EDCBA\n"
     ]
    }
   ],
   "source": [
    "def patterns(n):\n",
    "    base = 65\n",
    "    for i in range(n+1):\n",
    "        for j in range(i):\n",
    "            print(f\"{chr(base+n-j-1)}\", end = \"\")\n",
    "        print(end=\"\\n\")\n",
    "\n",
    "patterns(5)"
   ]
  },
  {
   "cell_type": "code",
   "execution_count": 183,
   "metadata": {},
   "outputs": [
    {
     "name": "stdout",
     "output_type": "stream",
     "text": [
      "* * * * * * * * * * \n",
      "* * * *     * * * * \n",
      "* * *         * * * \n",
      "* *             * * \n",
      "*                 * \n",
      "                    \n",
      "*                 * \n",
      "* *             * * \n",
      "* * *         * * * \n",
      "* * * *     * * * * \n",
      "* * * * * * * * * * \n"
     ]
    }
   ],
   "source": [
    "def patterns(n):\n",
    "    for i in range(0,(n*2)+1):\n",
    "        if i < n:\n",
    "            print(\"* \"*(n-i),end=\"\")\n",
    "            for j in range(i):\n",
    "                print(\"    \",end=\"\")\n",
    "            print(\"* \"*(n-i),end=\"\")\n",
    "        else:\n",
    "            print(\"* \"*(i-n),end=\"\")\n",
    "            for j in range(n*2 - i):\n",
    "                print(\"  \"*2,end=\"\")\n",
    "            print(\"* \"*(i-n),end=\"\")\n",
    "        print(\"\", end=\"\\n\")  \n",
    "        \n",
    "patterns(5)"
   ]
  },
  {
   "cell_type": "code",
   "execution_count": 184,
   "metadata": {},
   "outputs": [
    {
     "name": "stdout",
     "output_type": "stream",
     "text": [
      "*          *\n",
      "**        **\n",
      "***      ***\n",
      "****    ****\n",
      "*****  *****\n",
      "************\n",
      "*****  *****\n",
      "****    ****\n",
      "***      ***\n",
      "**        **\n",
      "*          *\n",
      "            \n"
     ]
    }
   ],
   "source": [
    "def patterns(n):\n",
    "    for i in range(0,(n*2)+1):\n",
    "        if i < n:\n",
    "            print(\"*\"*(i+1),end=\"\")\n",
    "            print(\" \"*(2*(n-i-1)),end=\"\")\n",
    "            print(\"*\"*(i+1),end=\"\\n\")\n",
    "        if i > n:\n",
    "            print(\"*\"*(n*2-i),end=\"\")\n",
    "            print(\" \"*(2*(i-n)),end=\"\")\n",
    "            print(\"*\"*(n*2-i),end=\"\\n\")\n",
    "  \n",
    "            \n",
    "            \n",
    "patterns(6)"
   ]
  },
  {
   "cell_type": "code",
   "execution_count": 185,
   "metadata": {},
   "outputs": [
    {
     "name": "stdout",
     "output_type": "stream",
     "text": [
      "* * * * \n",
      "*     * \n",
      "        \n",
      "*     * \n",
      "* * * * \n"
     ]
    }
   ],
   "source": [
    "def patterns(n):\n",
    "    for i in range(0,(n*2)+1):\n",
    "        if i < n:\n",
    "            print(\"* \"*(n-i),end=\"\")\n",
    "            for j in range(i):\n",
    "                print(\"    \",end=\"\")\n",
    "            print(\"* \"*(n-i),end=\"\\n\")\n",
    "        else:\n",
    "            print(\"* \"*(i-n),end=\"\")\n",
    "            for j in range(n*2 - i):\n",
    "                print(\"  \"*2,end=\"\")\n",
    "            print(\"* \"*(i-n),end=\"\\n\")\n",
    "        \n",
    "patterns(2)"
   ]
  },
  {
   "cell_type": "code",
   "execution_count": 204,
   "metadata": {},
   "outputs": [
    {
     "name": "stdout",
     "output_type": "stream",
     "text": [
      "4 4 4 4 4 4 4 \n",
      "\n",
      "4 3 3 3 3 3 4 \n",
      "\n",
      "4 3 2 2 2 3 4 \n",
      "\n",
      "4 3 2 1 2 3 4 \n",
      "\n",
      "4 3 2 2 2 3 4 \n",
      "\n",
      "4 3 3 3 3 3 4 \n",
      "\n",
      "4 4 4 4 4 4 4 \n",
      "\n"
     ]
    }
   ],
   "source": [
    "def prints(a, size):\n",
    "    for i in range(size):\n",
    "        for j in range(size):\n",
    "            print(f\"{a[i][j]}\",end=\" \")\n",
    "        print(\"\\n\") \n",
    "        \n",
    "def patterns(n):\n",
    "    size = 2*n -1\n",
    "    f = 0\n",
    "    b = size - 1\n",
    "    a = [[0 for i in range(size)]for i in range(size)]\n",
    "    \n",
    "    while n!=0 : \n",
    "        for i in range(f,b+1):\n",
    "            for j in range(f,b+1):\n",
    "                if i == f or i == b or j == f or j == b:\n",
    "                    a[i][j] = n\n",
    "        f = f + 1\n",
    "        b  = b - 1\n",
    "        n -= 1    \n",
    "            \n",
    "    \n",
    "    prints(a,size)\n",
    "    \n",
    "patterns(4)"
   ]
  }
 ],
 "metadata": {
  "kernelspec": {
   "display_name": "Python 3.9.12 ('base')",
   "language": "python",
   "name": "python3"
  },
  "language_info": {
   "codemirror_mode": {
    "name": "ipython",
    "version": 3
   },
   "file_extension": ".py",
   "mimetype": "text/x-python",
   "name": "python",
   "nbconvert_exporter": "python",
   "pygments_lexer": "ipython3",
   "version": "3.9.12"
  },
  "orig_nbformat": 4,
  "vscode": {
   "interpreter": {
    "hash": "49cb93f377a7abe7414b7b0f21fb3017538004a126cf690fb524202736b7fb92"
   }
  }
 },
 "nbformat": 4,
 "nbformat_minor": 2
}
