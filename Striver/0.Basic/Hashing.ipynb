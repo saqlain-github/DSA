{
 "cells": [
  {
   "cell_type": "markdown",
   "metadata": {},
   "source": [
    "# Frequencies of Limited Range Array Elements"
   ]
  },
  {
   "cell_type": "code",
   "execution_count": 4,
   "metadata": {},
   "outputs": [
    {
     "name": "stdout",
     "output_type": "stream",
     "text": [
      "{1: 1, 2: 2, 3: 4, 4: 0, 5: 1}\n"
     ]
    }
   ],
   "source": [
    "'''\n",
    "N = 5\n",
    "arr[] = {2, 3, 2, 3, 5}\n",
    "P = 5\n",
    "'''\n",
    "\n",
    "n = 5\n",
    "arr = [1,2,3,3,3,3,5,2]\n",
    "p = 5\n",
    "\n",
    "dict = {}\n",
    "for i in range(1,p+1):\n",
    "    dict[i]=0\n",
    "    \n",
    "for i in arr:\n",
    "    dict[i] += 1\n",
    "    \n",
    "print(dict)"
   ]
  },
  {
   "cell_type": "markdown",
   "metadata": {},
   "source": [
    "## Findind lowest and highest frequency element"
   ]
  },
  {
   "cell_type": "code",
   "execution_count": 7,
   "metadata": {},
   "outputs": [
    {
     "name": "stdout",
     "output_type": "stream",
     "text": [
      "5 3\n"
     ]
    }
   ],
   "source": [
    "min = p+1\n",
    "max = 0\n",
    "for key,value in dict.items():\n",
    "    if value > max: max = key\n",
    "    if value < min: min = key\n",
    "    \n",
    "print(min,max)"
   ]
  },
  {
   "cell_type": "code",
   "execution_count": null,
   "metadata": {},
   "outputs": [],
   "source": []
  }
 ],
 "metadata": {
  "kernelspec": {
   "display_name": "Python 3.9.12 ('base')",
   "language": "python",
   "name": "python3"
  },
  "language_info": {
   "codemirror_mode": {
    "name": "ipython",
    "version": 3
   },
   "file_extension": ".py",
   "mimetype": "text/x-python",
   "name": "python",
   "nbconvert_exporter": "python",
   "pygments_lexer": "ipython3",
   "version": "3.9.12"
  },
  "orig_nbformat": 4,
  "vscode": {
   "interpreter": {
    "hash": "49cb93f377a7abe7414b7b0f21fb3017538004a126cf690fb524202736b7fb92"
   }
  }
 },
 "nbformat": 4,
 "nbformat_minor": 2
}
